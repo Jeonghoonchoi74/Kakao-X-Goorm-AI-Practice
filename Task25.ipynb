{
  "cells": [
    {
      "cell_type": "markdown",
      "id": "f8bf433b",
      "metadata": {
        "id": "f8bf433b"
      },
      "source": [
        "# 파이썬 데이터 시각화 코랩 한글 깨지는 문제 해결\n"
      ]
    },
    {
      "cell_type": "code",
      "execution_count": null,
      "id": "EYSKJNkYr1zP",
      "metadata": {
        "colab": {
          "base_uri": "https://localhost:8080/"
        },
        "id": "EYSKJNkYr1zP",
        "outputId": "c121edc8-ed34-48c7-9eee-9144683346eb"
      },
      "outputs": [
        {
          "name": "stdout",
          "output_type": "stream",
          "text": [
            "Reading package lists... Done\n",
            "Building dependency tree... Done\n",
            "Reading state information... Done\n",
            "fonts-nanum is already the newest version (20200506-1).\n",
            "0 upgraded, 0 newly installed, 0 to remove and 29 not upgraded.\n",
            "/usr/share/fonts: caching, new cache contents: 0 fonts, 1 dirs\n",
            "/usr/share/fonts/truetype: caching, new cache contents: 0 fonts, 3 dirs\n",
            "/usr/share/fonts/truetype/humor-sans: caching, new cache contents: 1 fonts, 0 dirs\n",
            "/usr/share/fonts/truetype/liberation: caching, new cache contents: 16 fonts, 0 dirs\n",
            "/usr/share/fonts/truetype/nanum: caching, new cache contents: 12 fonts, 0 dirs\n",
            "/usr/local/share/fonts: caching, new cache contents: 0 fonts, 0 dirs\n",
            "/root/.local/share/fonts: skipping, no such directory\n",
            "/root/.fonts: skipping, no such directory\n",
            "/usr/share/fonts/truetype: skipping, looped directory detected\n",
            "/usr/share/fonts/truetype/humor-sans: skipping, looped directory detected\n",
            "/usr/share/fonts/truetype/liberation: skipping, looped directory detected\n",
            "/usr/share/fonts/truetype/nanum: skipping, looped directory detected\n",
            "/var/cache/fontconfig: cleaning cache directory\n",
            "/root/.cache/fontconfig: not cleaning non-existent cache directory\n",
            "/root/.fontconfig: not cleaning non-existent cache directory\n",
            "fc-cache: succeeded\n"
          ]
        }
      ],
      "source": [
        "# 코랩 한글 깨짐 문제 해결\n",
        "# 필수: 런타임 재시작\n",
        "# 여기서 설치된 폰트를 사용도록 하기 위해 이 코드셀 실행 완료 후 \"상단 메뉴바에서 런타임 > 세션 다시 시작\" 메뉴를 실행해야함!!\n",
        "# 참고: https://www.whatwant.com/entry/matplotlib-hangul-colab-local\n",
        "!sudo apt-get install -y fonts-nanum\n",
        "!sudo fc-cache -fv\n",
        "!rm ~/.cache/matplotlib -rf"
      ]
    },
    {
      "cell_type": "code",
      "execution_count": null,
      "id": "BUtoDNGIJYGX",
      "metadata": {
        "id": "BUtoDNGIJYGX"
      },
      "outputs": [],
      "source": [
        "# 코랩 한글 깨짐 문제 해결: 폰트 적용\n",
        "import matplotlib.pyplot as plt\n",
        "plt.rc('font', family='NanumBarunGothic')"
      ]
    },
    {
      "cell_type": "code",
      "execution_count": null,
      "id": "jt4sXBUq7oPj",
      "metadata": {
        "colab": {
          "base_uri": "https://localhost:8080/"
        },
        "id": "jt4sXBUq7oPj",
        "outputId": "47fa1339-487e-4497-927b-7a39ef1f5522"
      },
      "outputs": [
        {
          "name": "stdout",
          "output_type": "stream",
          "text": [
            "Unknown system... sorry~~~~\n"
          ]
        }
      ],
      "source": [
        "# 주피터 노트북 한글 깨짐 문제 해결: 주피터 노트북(Jupyter Notebook)\n",
        "import platform\n",
        "from matplotlib import font_manager, rc\n",
        "\n",
        "path = \"c:/Windows/Fonts/malgun.ttf\"\n",
        "if platform.system() == 'Darwin':\n",
        "    rc('font', family='AppleGothic')\n",
        "elif platform.system() == 'Windows':\n",
        "    font_name = font_manager.FontProperties(fname=path).get_name()\n",
        "    rc('font', family=font_name)\n",
        "else:\n",
        "    print('Unknown system... sorry~~~~')"
      ]
    },
    {
      "cell_type": "code",
      "execution_count": null,
      "id": "iZZvTmomJseB",
      "metadata": {
        "id": "iZZvTmomJseB"
      },
      "outputs": [],
      "source": [
        "# 한글 깨짐 문제 해결: 공통. minus 처리.\n",
        "import matplotlib as mpl\n",
        "mpl.rcParams['axes.unicode_minus'] = False"
      ]
    },
    {
      "cell_type": "code",
      "execution_count": null,
      "id": "--YQykUW6O54",
      "metadata": {
        "id": "--YQykUW6O54"
      },
      "outputs": [],
      "source": []
    },
    {
      "cell_type": "markdown",
      "id": "M6iIma690t18",
      "metadata": {
        "id": "M6iIma690t18"
      },
      "source": [
        "## ✏️ 문제 1\n",
        "\n",
        "함수 $\n",
        "f(x) = 3x^2 + 2x + 1\n",
        "$\n",
        "의 도함수를 구하세요.\n",
        "\n",
        "---\n",
        "\n",
        "## ✏️ 문제 2\n",
        "\n",
        "다음 함수의 도함수를 **체인룰**을 이용하여 구하세요.\n",
        "\n",
        "$\n",
        "f(x) = \\sin(x^2)\n",
        "$\n",
        "\n"
      ]
    },
    {
      "cell_type": "code",
      "execution_count": 1,
      "id": "aae9c0e1",
      "metadata": {},
      "outputs": [
        {
          "name": "stdout",
          "output_type": "stream",
          "text": [
            "6*x + 2\n"
          ]
        }
      ],
      "source": [
        "#문제 1\n",
        "# 도함수 구하기\n",
        "import sympy as sp\n",
        "x = sp.symbols('x')\n",
        "f = 3*x**2 + 2*x + 1\n",
        "\n",
        "f_prime = sp.diff(f, x)\n",
        "print(f_prime)"
      ]
    },
    {
      "cell_type": "code",
      "execution_count": null,
      "id": "c1df5900",
      "metadata": {},
      "outputs": [
        {
          "name": "stdout",
          "output_type": "stream",
          "text": [
            "2*x*cos(x**2)\n"
          ]
        }
      ],
      "source": [
        "# 문제 2\n",
        "# 도함수 구하기 via chain rule\n",
        "\n",
        "import sympy as sp\n",
        "from sympy import sin, cos\n",
        "x, y = sp.symbols('x y')\n",
        "f = sp.sin(x**2)\n",
        "f_prime = sp.diff(f, x)\n",
        "print(f_prime)"
      ]
    },
    {
      "cell_type": "markdown",
      "id": "P92xPe59JauX",
      "metadata": {
        "id": "P92xPe59JauX"
      },
      "source": [
        "\n",
        "## 🧠 문제 3: 계산 그래프 (순전파 & 역전파)\n",
        "\n",
        "다음 함수에 대해 계산 그래프를 그리고,  \n",
        "변수 x = 1, y = 2일 때,\n",
        "\n",
        "$\n",
        "z = (x + y)^2\n",
        "$\n",
        "\n",
        "1. 순전파(forward pass)를 통해 z의 값을 구하세요.  \n",
        "2. 역전파(backward pass)를 통해  \n",
        "   $\\frac{\\partial z}{\\partial x}, \\frac{\\partial z}{\\partial y}$를 구하세요.\n",
        "\n",
        "---\n"
      ]
    },
    {
      "cell_type": "markdown",
      "id": "aLEgTqLn4iVb",
      "metadata": {
        "id": "aLEgTqLn4iVb"
      },
      "source": [
        "## ✏️ 문제 4. 벡터 문제\n",
        "\n",
        "2차원 벡터  \n",
        "$\n",
        "\\mathbf{a} = [1,\\ 2],\\quad \\mathbf{b} = [3,\\ 4]\n",
        "$  \n",
        "에 대해,\n",
        "\n",
        "1. 벡터의 덧셈 $ \\mathbf{a} + \\mathbf{b} $  \n",
        "2. 벡터의 내적(dot product) $ \\mathbf{a} \\cdot \\mathbf{b} $\n",
        "\n",
        "을 구하세요.\n",
        "\n",
        "---\n"
      ]
    },
    {
      "cell_type": "code",
      "execution_count": 16,
      "id": "6b00c654",
      "metadata": {},
      "outputs": [
        {
          "data": {
            "image/png": "[encoded data removed]",
            "text/plain": [
              "<Figure size 800x600 with 1 Axes>"
            ]
          },
          "metadata": {},
          "output_type": "display_data"
        },
        {
          "name": "stdout",
          "output_type": "stream",
          "text": [
            "forward pass: 9\n",
            "backward pass: dz/dx = 6, dz/dy = 6\n"
          ]
        }
      ],
      "source": [
        "# 문제 3\n",
        "# forward pass, backward pass\n",
        "import numpy as np\n",
        "import matplotlib.pyplot as plt\n",
        "\n",
        "equation = (x + y) ** 2\n",
        "x = np.linspace(-5, 5, 100)\n",
        "y = np.linspace(-5, 5, 100)\n",
        "\n",
        "# 그래프\n",
        "plt.figure(figsize=(8, 6))\n",
        "plt.plot(x, (x + y) ** 2, label='(x + y) ** 2')\n",
        "plt.axhline(0, color='black', lw=0.5, ls='--')\n",
        "plt.axvline(0, color='black', lw=0.5, ls='--')\n",
        "plt.xlim(-5, 5)\n",
        "plt.ylim(0, 5)\n",
        "plt.grid()\n",
        "plt.legend()\n",
        "plt.show()\n",
        "\n",
        "# forward pass\n",
        "x = 1\n",
        "y = 2\n",
        "z = (x + y) ** 2\n",
        "print(f\"forward pass: {z}\")\n",
        "\n",
        "# backward pass\n",
        "dz_dx = 2 * (x + y) * 1\n",
        "dz_dy = 2 * (x + y) * 1\n",
        "\n",
        "print(f\"backward pass: dz/dx = {dz_dx}, dz/dy = {dz_dy}\")\n",
        "\n",
        "\n"
      ]
    },
    {
      "cell_type": "markdown",
      "id": "gOqyThHk5b7U",
      "metadata": {
        "id": "gOqyThHk5b7U"
      },
      "source": []
    },
    {
      "cell_type": "code",
      "execution_count": 1,
      "id": "6C5ESEB74ShM",
      "metadata": {
        "id": "6C5ESEB74ShM"
      },
      "outputs": [
        {
          "name": "stdout",
          "output_type": "stream",
          "text": [
            "[4 6]\n",
            "11\n"
          ]
        }
      ],
      "source": [
        "import numpy as np\n",
        "\n",
        "a = np.array([1, 2])\n",
        "b = np.array([3, 4])\n",
        "\n",
        "# 덧셈\n",
        "print(a + b)  # [4 6]\n",
        "\n",
        "# 내적\n",
        "print(np.dot(a, b))  # 11"
      ]
    },
    {
      "cell_type": "code",
      "execution_count": null,
      "id": "fed1ab0f",
      "metadata": {},
      "outputs": [],
      "source": []
    }
  ],
  "metadata": {
    "colab": {
      "provenance": []
    },
    "kernelspec": {
      "display_name": "base",
      "language": "python",
      "name": "python3"
    },
    "language_info": {
      "codemirror_mode": {
        "name": "ipython",
        "version": 3
      },
      "file_extension": ".py",
      "mimetype": "text/x-python",
      "name": "python",
      "nbconvert_exporter": "python",
      "pygments_lexer": "ipython3",
      "version": "3.12.7"
    }
  },
  "nbformat": 4,
  "nbformat_minor": 5
}
