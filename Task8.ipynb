{
 "cells": [
  {
   "cell_type": "markdown",
   "metadata": {},
   "source": [
    "중복 없는 단어 필터링 (Set + 함수)해서 단어장 만들기 프로젝트\n",
    "\n",
    "여러 개의 day마다 문장들 리스트에서 중복되지 않는 단어들을 찾아 반환하는 함수를 작성하세요.\n",
    "매일 알아야할 여러개의 문장들 묶음에서 단어장을 만들어서 출력해야 합니다\n",
    "\n",
    "요구 사항:\n",
    "unique_words(sentences: list) -> set\n",
    "입력: 여러 개의 문자열이 들어있는 리스트 sentences\n",
    "출력: 중복되지 않는 단어들의 집합(set)\n",
    "\n",
    "단어는 공백으로 구분되며, 대소문자를 구분하지 않음\n",
    "문장부호는 고려하지 않음 (,, . 같은 것은 무시)\n",
    "\n",
    "예제 입력/출력:\n",
    "\n",
    "sentences = {'day1': [\n",
    "    \"Hello world, welcome to Python.\",\n",
    "    \"Python is fun and Python is powerful.\",\n",
    "    \"Hello everyone, have a great day!\"\n",
    "  ],\n",
    "  'day2': [....],\n",
    "  ...\n",
    "}\n",
    "\n",
    "print(unique_words(sentences))\n",
    "# 출력: {'world', 'welcome', 'to', 'is', 'fun', 'and', 'powerful', 'everyone', 'have', 'a', 'great', 'day'}"
   ]
  },
  {
   "cell_type": "code",
   "execution_count": 1,
   "metadata": {},
   "outputs": [
    {
     "name": "stdout",
     "output_type": "stream",
     "text": [
      "day1: {'powerful', 'world', 'welcome', 'is', 'fun', 'everyone', 'Hello', 'and', 'a', 'great', 'Python', 'have', 'day', 'to'}\n",
      "day2: [{'for', 'I', 'what', 'you', 'do', 'can'}]\n",
      "day3: [{'something', 'see', 'is', 'what', 'great', 'do', 'can', 'we', 'to'}]\n"
     ]
    }
   ],
   "source": [
    "import string\n",
    "def dict_to_set(sentences):\n",
    "    # sentences에서 모든 문장을 하나의 문자열로 합치고, 문장 부호 제거 후 단어 추출하여 set으로 변환\n",
    "    all_sentences = ' '.join(sentences['day1'])\n",
    "    cleaned_sentences = remove_punctuation(all_sentences)\n",
    "    unique_words = set(cleaned_sentences.split())\n",
    "    sentences['day1'] = unique_words\n",
    "\n",
    "def remove_punctuation(input_string):\n",
    "    # string.punctuation에 정의된 모든 문장 부호를 제거\n",
    "    translator = str.maketrans('', '', string.punctuation)\n",
    "    cleaned_string = input_string.translate(translator)\n",
    "    return cleaned_string\n",
    "\n",
    "def make_wordlist(sentences,day):\n",
    "    dummyInput = input(f\"{day}일에 입력 할 문장을 넣어주세요 (더이상 입력을 원하지 않는다면 -1 입력) : \")\n",
    "    while dummyInput != \"-1\":\n",
    "        # 문장 부호 제거 후 단어 추출\n",
    "        cleaned_input = remove_punctuation(dummyInput)\n",
    "        words = set(cleaned_input.split())\n",
    "        # 또는 문장 부호가 제거된 문장을 저장하려면:\n",
    "        sentences[f'day{day}'] = [words]\n",
    "        day += 1\n",
    "        dummyInput = input(f\"{day}일에 입력 할 문장을 넣어주세요 (더이상 입력을 원하지 않는다면 -1 입력) : \")\n",
    "\n",
    "def print_wordlist(sentences):\n",
    "    # 단어 목록을 출력\n",
    "    for day, words in sentences.items():\n",
    "        print(f'{day}: {words}')\n",
    "\n",
    "sentences = {'day1': [\n",
    "    \"Hello world, welcome to Python.\",\n",
    "    \"Python is fun and Python is powerful.\",\n",
    "    \"Hello everyone, have a great day!\"\n",
    "]}\n",
    "\n",
    "day = 2\n",
    "dict_to_set(sentences)\n",
    "make_wordlist(sentences,day)\n",
    "print_wordlist(sentences)"
   ]
  },
  {
   "cell_type": "markdown",
   "metadata": {},
   "source": []
  },
  {
   "cell_type": "markdown",
   "metadata": {},
   "source": []
  }
 ],
 "metadata": {
  "kernelspec": {
   "display_name": "base",
   "language": "python",
   "name": "python3"
  },
  "language_info": {
   "codemirror_mode": {
    "name": "ipython",
    "version": 3
   },
   "file_extension": ".py",
   "mimetype": "text/x-python",
   "name": "python",
   "nbconvert_exporter": "python",
   "pygments_lexer": "ipython3",
   "version": "3.12.7"
  }
 },
 "nbformat": 4,
 "nbformat_minor": 2
}
