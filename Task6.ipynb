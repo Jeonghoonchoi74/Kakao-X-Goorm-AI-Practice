{
 "cells": [
  {
   "cell_type": "code",
   "execution_count": null,
   "metadata": {},
   "outputs": [
    {
     "name": "stdout",
     "output_type": "stream",
     "text": [
      "*****제일농장*****\n",
      "닭, 100마리 입니다.\n",
      "소, 50마리 입니다.\n",
      "돼지, 80마리 입니다.\n",
      "\n",
      "*****우리농장*****\n",
      "닭, 50마리 입니다.\n",
      "소, 10마리 입니다.\n",
      "돼지, 20마리 입니다.\n",
      "\n",
      "*****한국농장*****\n",
      "닭, 200마리 입니다.\n",
      "소, 100마리 입니다.\n",
      "돼지, 150마리 입니다.\n",
      "\n"
     ]
    }
   ],
   "source": [
    "farms = ['제일농장', '우리농장', '한국농장']\n",
    "animals = ['닭', '소', '돼지']\n",
    "\n",
    "farm_data = {\n",
    "\t'제일농장' : [100, 50, 80],\n",
    "\t'우리농장' : [50, 10, 20],\n",
    "\t'한국농장' : [200, 100, 150],\n",
    "}\n",
    "for farm in farms:\n",
    "    print(\"*****{}*****\".format(farm))\n",
    "    for animal, count in zip (animals, farm_data[farm]):\n",
    "\t    print(f\"{animal}, {count}마리 입니다.\")\n",
    " "
   ]
  },
  {
   "cell_type": "code",
   "execution_count": null,
   "metadata": {},
   "outputs": [],
   "source": []
  },
  {
   "cell_type": "code",
   "execution_count": null,
   "metadata": {},
   "outputs": [],
   "source": []
  }
 ],
 "metadata": {
  "kernelspec": {
   "display_name": "base",
   "language": "python",
   "name": "python3"
  },
  "language_info": {
   "codemirror_mode": {
    "name": "ipython",
    "version": 3
   },
   "file_extension": ".py",
   "mimetype": "text/x-python",
   "name": "python",
   "nbconvert_exporter": "python",
   "pygments_lexer": "ipython3",
   "version": "3.12.7"
  }
 },
 "nbformat": 4,
 "nbformat_minor": 2
}
