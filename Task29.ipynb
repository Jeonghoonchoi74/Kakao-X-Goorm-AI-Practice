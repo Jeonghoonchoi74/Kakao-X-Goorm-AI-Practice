{
 "cells": [
  {
   "cell_type": "markdown",
   "id": "7dac56e4",
   "metadata": {},
   "source": [
    "# 문제 1. 배열의 합 구하기"
   ]
  },
  {
   "cell_type": "markdown",
   "id": "9fd97e9d",
   "metadata": {},
   "source": [
    "**문제 설명:**\n",
    "\n",
    "정수로 구성된 배열이 주어졌을 때, 배열의 합을 구하는 최적의 함수를 작성하시오.\n",
    "\n",
    "입력 예시: [1, 2, 3, 4, 5]\n",
    "출력 예시: 15"
   ]
  },
  {
   "cell_type": "code",
   "execution_count": null,
   "id": "f69517dd",
   "metadata": {},
   "outputs": [
    {
     "name": "stdout",
     "output_type": "stream",
     "text": [
      "15\n"
     ]
    }
   ],
   "source": [
    "#length 의 절반만큼만 반복하고 양옆에서 중앙으로 오면서 각 원소의 합 을 구한다.\n",
    "\n",
    "userinput = list(map(int, input().split()))\n",
    "length = len(userinput)\n",
    "sum = 0\n",
    "\n",
    "# length가 짝수일 때\n",
    "if length % 2 == 0:\n",
    "    for i in range(length//2):\n",
    "        sum += userinput[i] + userinput[length-i-1]\n",
    "elif length % 2 == 1:\n",
    "    # length가 홀수일 때\n",
    "    for i in range(length//2):\n",
    "        sum += userinput[i] + userinput[length-i-1]\n",
    "    sum += userinput[length//2]\n",
    "\n",
    "print(sum)"
   ]
  },
  {
   "cell_type": "markdown",
   "id": "ec3b8d7e",
   "metadata": {},
   "source": [
    "# 문제 2. 배열 뒤집기"
   ]
  },
  {
   "cell_type": "markdown",
   "id": "38b37ca1",
   "metadata": {},
   "source": [
    "**문제 설명:**\n",
    "\n",
    "주어진 배열을 뒤집은 새로운 배열을 반환하는 함수를 2가지 이상의 구현방식으로 작성하고 이들간의 특성을 비교해보하시오.\n",
    "\n",
    "입력 예시: [1, 2, 3, 4]\n",
    "출력 예시: [4, 3, 2, 1]"
   ]
  },
  {
   "cell_type": "code",
   "execution_count": null,
   "id": "7f6fb1a2",
   "metadata": {},
   "outputs": [
    {
     "name": "stdout",
     "output_type": "stream",
     "text": [
      "[4, 3, 2, 1]\n",
      "[4, 3, 2, 1]\n"
     ]
    }
   ],
   "source": [
    "userinput2 = list(map(int, input().split()))\n",
    "print(userinput2[::-1]) \n",
    "\n",
    "for i in range(len(userinput2)//2):\n",
    "    userinput2[i], userinput2[-i-1] = userinput2[-i-1], userinput2[i]\n",
    "print(userinput2) "
   ]
  },
  {
   "cell_type": "markdown",
   "id": "4e03e35f",
   "metadata": {},
   "source": [
    "# 문제 3. 10진수를 2진수로 변환하기"
   ]
  },
  {
   "cell_type": "code",
   "execution_count": 9,
   "id": "f2d04060",
   "metadata": {},
   "outputs": [
    {
     "name": "stdout",
     "output_type": "stream",
     "text": [
      "1101\n"
     ]
    }
   ],
   "source": [
    "userinput3 = int(input())\n",
    "print(bin(userinput3)[2:]) "
   ]
  },
  {
   "cell_type": "markdown",
   "id": "15406f07",
   "metadata": {},
   "source": [
    "**문제 설명:**\n",
    "\n",
    "0 이상의 10진수 정수를 입력 받아 2진수 문자열로 반환하는 함수를 작성하시오.\n",
    "\n",
    "입력 예시: 13\n",
    "출력 예시: '1101'"
   ]
  },
  {
   "cell_type": "markdown",
   "id": "81ab20a6",
   "metadata": {},
   "source": [
    "# 문제 4. 2진수를 10진수로 변환하기"
   ]
  },
  {
   "cell_type": "markdown",
   "id": "0bae5b92",
   "metadata": {},
   "source": [
    "**문제 설명:**\n",
    "\n",
    "2진수 문자열을 입력 받아 10진수 정수로 반환하는 함수를 작성하시오.\n",
    "\n",
    "입력 예시: '1101'\n",
    "출력 예시: 13"
   ]
  },
  {
   "cell_type": "code",
   "execution_count": 8,
   "id": "1abd3874",
   "metadata": {},
   "outputs": [
    {
     "name": "stdout",
     "output_type": "stream",
     "text": [
      "13\n"
     ]
    }
   ],
   "source": [
    "userinput4 = input()\n",
    "print(int(userinput4, 2))"
   ]
  },
  {
   "cell_type": "markdown",
   "id": "42bc5142",
   "metadata": {},
   "source": [
    "# 문제 5. 소수 판별하기"
   ]
  },
  {
   "cell_type": "markdown",
   "id": "2bacbb00",
   "metadata": {},
   "source": [
    "**문제 설명:**\n",
    "\n",
    "주어진 정수가 소수(prime number)인지 확인하는 함수를 작성하시오.\n",
    "\n",
    "입력 예시: 17\n",
    "출력 예시: True"
   ]
  },
  {
   "cell_type": "code",
   "execution_count": null,
   "id": "a52031de",
   "metadata": {},
   "outputs": [
    {
     "name": "stdout",
     "output_type": "stream",
     "text": [
      "True\n"
     ]
    }
   ],
   "source": [
    "userinput5 = int(input())\n",
    "is_prime = True\n",
    "\n",
    "if userinput5 < 2: # 0과 1은 소수가 아님\n",
    "    is_prime = False\n",
    "else:\n",
    "    for i in range(2, userinput5):\n",
    "        if userinput5 % i == 0:\n",
    "            is_prime = False\n",
    "            break\n",
    "\n",
    "print(is_prime)\n"
   ]
  },
  {
   "cell_type": "markdown",
   "id": "c96372d4",
   "metadata": {},
   "source": [
    "# 문제 6. 주어진 범위에서 소수 찾기"
   ]
  },
  {
   "cell_type": "markdown",
   "id": "2c8d6086",
   "metadata": {},
   "source": [
    "**문제 설명:**\n",
    "\n",
    "주어진 범위 [start, end]에서 모든 소수를 리스트로 반환하시오.\n",
    "\n",
    "입력 예시: start = 10, end = 20\n",
    "출력 예시: [11, 13, 17, 19]"
   ]
  },
  {
   "cell_type": "code",
   "execution_count": null,
   "id": "3388baa7",
   "metadata": {},
   "outputs": [
    {
     "name": "stdout",
     "output_type": "stream",
     "text": [
      "[2, 3, 5, 7, 11, 13, 17, 19, 23, 29, 31, 37, 41, 43, 47, 53, 59, 61, 67, 71, 73, 79, 83, 89, 97, 101, 103, 107, 109, 113, 127, 131, 137, 139, 149, 151, 157, 163, 167, 173, 179, 181, 191, 193, 197, 199, 211, 223, 227, 229, 233, 239, 241, 251, 257, 263, 269, 271, 277, 281, 283, 293, 307, 311, 313, 317, 331, 337, 347, 349, 353, 359, 367, 373, 379, 383, 389, 397, 401, 409, 419, 421, 431, 433, 439, 443, 449, 457, 461, 463, 467, 479, 487, 491, 499, 503, 509, 521, 523, 541, 547, 557, 563, 569, 571, 577, 587, 593, 599, 601, 607, 613, 617, 619, 631, 641, 643, 647, 653, 659, 661, 673, 677, 683, 691, 701, 709, 719, 727, 733, 739, 743, 751, 757, 761, 769, 773, 787, 797, 809, 811, 821, 823, 827, 829, 839, 853, 857, 859, 863, 877, 881, 883, 887, 907, 911, 919, 929, 937, 941, 947, 953, 967, 971, 977, 983, 991, 997]\n"
     ]
    }
   ],
   "source": [
    "start = int(input())\n",
    "end = int(input())\n",
    "list_prime = []\n",
    "\n",
    "for i in range(start, end+1):\n",
    "    is_prime = True\n",
    "    if i < 2:\n",
    "        is_prime = False\n",
    "    else:\n",
    "        for j in range(2, int(i**0.5) + 1):\n",
    "            if i % j == 0:\n",
    "                is_prime = False\n",
    "                break\n",
    "    if is_prime:\n",
    "        list_prime.append(i)\n",
    "\n",
    "print(list_prime)\n",
    "\n"
   ]
  }
 ],
 "metadata": {
  "kernelspec": {
   "display_name": "base",
   "language": "python",
   "name": "python3"
  },
  "language_info": {
   "codemirror_mode": {
    "name": "ipython",
    "version": 3
   },
   "file_extension": ".py",
   "mimetype": "text/x-python",
   "name": "python",
   "nbconvert_exporter": "python",
   "pygments_lexer": "ipython3",
   "version": "3.12.7"
  }
 },
 "nbformat": 4,
 "nbformat_minor": 5
}
