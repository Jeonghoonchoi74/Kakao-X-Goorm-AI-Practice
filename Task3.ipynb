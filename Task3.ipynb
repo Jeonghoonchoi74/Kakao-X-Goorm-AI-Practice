{
 "cells": [
  {
   "cell_type": "code",
   "execution_count": null,
   "metadata": {},
   "outputs": [
    {
     "name": "stdout",
     "output_type": "stream",
     "text": [
      "체질량 지수 BMI를 계산합니다~\n",
      "\n",
      "\n",
      "당신의 이름을 입력하세요: \n",
      "몸무게를 입력하세요 :\n",
      "키를 입력하세요 :\n",
      "변환 전  <class 'float'> <class 'float'>\n",
      "변환 후  <class 'float'> <class 'float'>\n",
      "1님의 BMI 지수는 171.0/76.8x76.8 이므로 100.86 입니다.\n"
     ]
    }
   ],
   "source": [
    "print(\"체질량 지수 BMI를 계산합니다~\\n\\n\")\n",
    "print(\"당신의 이름을 입력하세요: \")\n",
    "name = input()\n",
    "print(\"몸무게를 입력하세요 :\")\n",
    "weight = float(input())\n",
    "print(\"키를 입력하세요 :\")\n",
    "height = float(input())\n",
    "print(\"변환 전 \", type(weight), type(height))\n",
    "print(\"변환 후 \", type(weight), type(height))\n",
    "bmi = weight / ((100/height) * (100/height))\n",
    "print(f\"{name}님의 BMI 지수는 {weight}/{(100/height)}x{(100/height)} 이므로 {bmi:.2f} 입니다.\")\n"
   ]
  },
  {
   "cell_type": "code",
   "execution_count": null,
   "metadata": {},
   "outputs": [],
   "source": [
    "\n"
   ]
  }
 ],
 "metadata": {
  "kernelspec": {
   "display_name": "base",
   "language": "python",
   "name": "python3"
  },
  "language_info": {
   "codemirror_mode": {
    "name": "ipython",
    "version": 3
   },
   "file_extension": ".py",
   "mimetype": "text/x-python",
   "name": "python",
   "nbconvert_exporter": "python",
   "pygments_lexer": "ipython3",
   "version": "3.12.7"
  }
 },
 "nbformat": 4,
 "nbformat_minor": 2
}
