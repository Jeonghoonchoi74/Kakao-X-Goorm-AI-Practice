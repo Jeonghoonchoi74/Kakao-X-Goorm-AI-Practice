{
 "cells": [
  {
   "cell_type": "markdown",
   "id": "b119eb50",
   "metadata": {},
   "source": [
    "# 데일리 미션 0407"
   ]
  },
  {
   "cell_type": "markdown",
   "id": "8494ab6d",
   "metadata": {},
   "source": [
    "## 1. 리스트에서 최댓값 구하기 (max 함수 사용 금지)\n",
    "\n",
    "**문제 설명:**\n",
    "사용자로부터 N개의 정수를 입력받아 리스트에 저장한 뒤, 가장 큰 값을 찾아 출력하세요.\n",
    "단, 내장 함수 max()를 사용하지 말고 직접 비교 알고리즘을 구현하세요."
   ]
  },
  {
   "cell_type": "code",
   "execution_count": 1,
   "id": "09ad4f72",
   "metadata": {},
   "outputs": [
    {
     "name": "stdout",
     "output_type": "stream",
     "text": [
      "9\n"
     ]
    }
   ],
   "source": [
    "input1 = list(map(int, input().split()))\n",
    "max = 0\n",
    "for i in input1:\n",
    "    if i > max:\n",
    "        max = i\n",
    "print(max)"
   ]
  },
  {
   "cell_type": "markdown",
   "id": "144d9978",
   "metadata": {},
   "source": [
    "## 2. 짝수만 필터링하여 리스트에 저장하기\n",
    "\n",
    "**문제 설명:**\n",
    "사용자로부터 정수를 입력받아 짝수만 리스트에 저장하고 출력하세요."
   ]
  },
  {
   "cell_type": "code",
   "execution_count": 2,
   "id": "18b98fed",
   "metadata": {},
   "outputs": [
    {
     "name": "stdout",
     "output_type": "stream",
     "text": [
      "[2, 4, 6, 8]\n"
     ]
    }
   ],
   "source": [
    "input2 = list(map(int, input().split()))\n",
    "even_numbers = []\n",
    "for i in input2:\n",
    "    if i % 2 == 0 and i != 0:\n",
    "        even_numbers.append(i)\n",
    "print(even_numbers)"
   ]
  },
  {
   "cell_type": "markdown",
   "id": "7427a979",
   "metadata": {},
   "source": [
    "## 3. 반복문과 수학 공식으로 1부터 N까지 합 구하기\n",
    "\n",
    "**문제 설명:**\n",
    "1부터 N까지의 합을 반복문으로 구한 값과 수학 공식을 이용한 값을 각각 출력해 비교하세요."
   ]
  },
  {
   "cell_type": "code",
   "execution_count": 3,
   "id": "11fc6140",
   "metadata": {},
   "outputs": [
    {
     "name": "stdout",
     "output_type": "stream",
     "text": [
      "45\n"
     ]
    }
   ],
   "source": [
    "input3 = list(map(int, input().split()))\n",
    "sum = 0\n",
    "for i in input3:\n",
    "    sum += i\n",
    "print(sum)"
   ]
  },
  {
   "cell_type": "markdown",
   "id": "1c0cd26a",
   "metadata": {},
   "source": [
    "## 4. 숫자 맞추기 게임 (입력 제한 및 기록 저장)\n",
    "\n",
    "**문제 설명:**\n",
    "정답 숫자를 맞출 때까지 입력을 받고, 최대 7회까지만 시도할 수 있습니다. 모든 입력 기록을 리스트에 저장한 후 출력하세요."
   ]
  },
  {
   "cell_type": "code",
   "execution_count": null,
   "id": "6b8ccdbc",
   "metadata": {},
   "outputs": [
    {
     "name": "stdout",
     "output_type": "stream",
     "text": [
      "Random number is: 58\n",
      "The number is higher.\n",
      "You guessed the number!\n",
      "Your guesses were: [3, 58]\n"
     ]
    }
   ],
   "source": [
    "# select number from 1 to 100 randomly\n",
    "import random\n",
    "number = random.randint(1, 100)\n",
    "history = []\n",
    "print(\"무작위 숫자는 : \", number)\n",
    "\n",
    "for i in range (1,8):\n",
    "    guess = int(input())\n",
    "    history.append(guess)\n",
    "    if guess == number:\n",
    "        print(\"정답\")\n",
    "        break\n",
    "    elif guess < number:\n",
    "        print(\"높음\")\n",
    "    else:\n",
    "        print(\"낮음\")\n",
    "print (\"내역 : \", history)"
   ]
  },
  {
   "cell_type": "markdown",
   "id": "1c64e729",
   "metadata": {},
   "source": [
    "## 5. 다중 조건 분기 처리\n",
    "\n",
    "**문제 설명:**\n",
    "정수를 입력받아 2의 배수면 2배, 3의 배수면 3배, 둘 다 아니면 1을 더해 출력하세요."
   ]
  }
 ],
 "metadata": {
  "kernelspec": {
   "display_name": "base",
   "language": "python",
   "name": "python3"
  },
  "language_info": {
   "codemirror_mode": {
    "name": "ipython",
    "version": 3
   },
   "file_extension": ".py",
   "mimetype": "text/x-python",
   "name": "python",
   "nbconvert_exporter": "python",
   "pygments_lexer": "ipython3",
   "version": "3.12.7"
  }
 },
 "nbformat": 4,
 "nbformat_minor": 5
}
