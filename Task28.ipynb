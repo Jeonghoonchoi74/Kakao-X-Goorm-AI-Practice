{
 "cells": [
  {
   "cell_type": "markdown",
   "id": "b119eb50",
   "metadata": {},
   "source": [
    "# 데일리 미션 0407"
   ]
  },
  {
   "cell_type": "markdown",
   "id": "8494ab6d",
   "metadata": {},
   "source": [
    "## 1. 리스트에서 최댓값 구하기 (max 함수 사용 금지)\n",
    "\n",
    "**문제 설명:**\n",
    "사용자로부터 N개의 정수를 입력받아 리스트에 저장한 뒤, 가장 큰 값을 찾아 출력하세요.\n",
    "단, 내장 함수 max()를 사용하지 말고 직접 비교 알고리즘을 구현하세요."
   ]
  },
  {
   "cell_type": "code",
   "execution_count": 1,
   "id": "09ad4f72",
   "metadata": {},
   "outputs": [
    {
     "name": "stdout",
     "output_type": "stream",
     "text": [
      "9\n"
     ]
    }
   ],
   "source": [
    "input1 = list(map(int, input().split()))\n",
    "max = 0\n",
    "for i in input1:\n",
    "    if i > max:\n",
    "        max = i\n",
    "print(max)"
   ]
  },
  {
   "cell_type": "markdown",
   "id": "144d9978",
   "metadata": {},
   "source": [
    "## 2. 짝수만 필터링하여 리스트에 저장하기\n",
    "\n",
    "**문제 설명:**\n",
    "사용자로부터 정수를 입력받아 짝수만 리스트에 저장하고 출력하세요."
   ]
  },
  {
   "cell_type": "code",
   "execution_count": 2,
   "id": "18b98fed",
   "metadata": {},
   "outputs": [
    {
     "name": "stdout",
     "output_type": "stream",
     "text": [
      "[2, 4, 6, 8]\n"
     ]
    }
   ],
   "source": [
    "input2 = list(map(int, input().split()))\n",
    "even_numbers = []\n",
    "for i in input2:\n",
    "    if i % 2 == 0 and i != 0:\n",
    "        even_numbers.append(i)\n",
    "print(even_numbers)"
   ]
  },
  {
   "cell_type": "markdown",
   "id": "7427a979",
   "metadata": {},
   "source": [
    "## 3. 반복문과 수학 공식으로 1부터 N까지 합 구하기\n",
    "\n",
    "**문제 설명:**\n",
    "1부터 N까지의 합을 반복문으로 구한 값과 수학 공식을 이용한 값을 각각 출력해 비교하세요."
   ]
  },
  {
   "cell_type": "code",
   "execution_count": null,
   "id": "11fc6140",
   "metadata": {},
   "outputs": [
    {
     "name": "stdout",
     "output_type": "stream",
     "text": [
      "반복문 합 수행시간 : 1.3771541118621826 초\n",
      "공식 합 수행시간 : 0.0 초\n",
      "반복문 합 : 5000000050000000 / 공식 합 : 5000000050000000\n"
     ]
    }
   ],
   "source": [
    "import time\n",
    "N = int(input())\n",
    "\n",
    "start_time = time.time()\n",
    "sum_loop = sum(range(1, N+1))  \n",
    "loop_time = time.time() - start_time    \n",
    "\n",
    "start_time = time.time()\n",
    "sum_formula = N * (N + 1) // 2\n",
    "formula_time = time.time() - start_time\n",
    "\n",
    "print(f\"반복문 합 수행시간 : {loop_time} 초\")\n",
    "print(f\"공식 합 수행시간 : {formula_time} 초\")\n",
    "print(f\"반복문 합 : {sum_loop} / 공식 합 : {sum_formula}\")"
   ]
  },
  {
   "cell_type": "markdown",
   "id": "1c0cd26a",
   "metadata": {},
   "source": [
    "## 4. 숫자 맞추기 게임 (입력 제한 및 기록 저장)\n",
    "\n",
    "**문제 설명:**\n",
    "정답 숫자를 맞출 때까지 입력을 받고, 최대 7회까지만 시도할 수 있습니다. 모든 입력 기록을 리스트에 저장한 후 출력하세요."
   ]
  },
  {
   "cell_type": "code",
   "execution_count": 6,
   "id": "6b8ccdbc",
   "metadata": {},
   "outputs": [
    {
     "name": "stdout",
     "output_type": "stream",
     "text": [
      "무작위 숫자는 :  65\n",
      "높음\n",
      "낮음\n",
      "낮음\n",
      "높음\n",
      "낮음\n",
      "낮음\n",
      "정답\n",
      "내역 :  [5, 100, 200, 64, 67, 66, 65]\n"
     ]
    }
   ],
   "source": [
    "# select number from 1 to 100 randomly\n",
    "import random\n",
    "number = random.randint(1, 100)\n",
    "history = []\n",
    "print(\"무작위 숫자는 : \", number)\n",
    "\n",
    "for i in range (1,8):\n",
    "    guess = int(input())\n",
    "    history.append(guess)\n",
    "    if guess == number:\n",
    "        print(\"정답\")\n",
    "        break\n",
    "    elif guess < number:\n",
    "        print(\"높음\")\n",
    "    else:\n",
    "        print(\"낮음\")\n",
    "print (\"내역 : \", history)"
   ]
  },
  {
   "cell_type": "markdown",
   "id": "1c64e729",
   "metadata": {},
   "source": [
    "## 5. 다중 조건 분기 처리\n",
    "\n",
    "**문제 설명:**\n",
    "정수를 입력받아 2의 배수면 2배, 3의 배수면 3배, 둘 다 아니면 1을 더해 출력하세요."
   ]
  },
  {
   "cell_type": "code",
   "execution_count": 8,
   "id": "0d90ff23",
   "metadata": {},
   "outputs": [
    {
     "name": "stdout",
     "output_type": "stream",
     "text": [
      "297\n"
     ]
    }
   ],
   "source": [
    "input5 = int(input())\n",
    "\n",
    "if input5 % 2 == 0 and input5 % 3 != 0:\n",
    "    print(input5 * 2)\n",
    "elif input5 % 3 == 0 and input5 % 2 != 0:\n",
    "    print(input5 * 3)\n",
    "elif input5 % 2 == 0 and input5 % 3 == 0:\n",
    "    # 아무것도 안함\n",
    "    pass\n",
    "else:\n",
    "    print(input5 + 1)\n"
   ]
  }
 ],
 "metadata": {
  "kernelspec": {
   "display_name": "base",
   "language": "python",
   "name": "python3"
  },
  "language_info": {
   "codemirror_mode": {
    "name": "ipython",
    "version": 3
   },
   "file_extension": ".py",
   "mimetype": "text/x-python",
   "name": "python",
   "nbconvert_exporter": "python",
   "pygments_lexer": "ipython3",
   "version": "3.12.7"
  }
 },
 "nbformat": 4,
 "nbformat_minor": 5
}
