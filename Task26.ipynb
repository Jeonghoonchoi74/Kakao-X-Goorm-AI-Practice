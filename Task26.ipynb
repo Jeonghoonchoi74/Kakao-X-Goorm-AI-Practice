{
 "cells": [
  {
   "cell_type": "markdown",
   "id": "122f1d27",
   "metadata": {},
   "source": [
    "# 데일리 미션 0403\n",
    "\n",
    "# 🧮 파이썬을 이용한 선형대수학 초급 문제\n",
    "이 노트북은 벡터 연산, 내적, 단위벡터, 직교성, 유클리드 거리, 코사인 유사도 등을 연습하기 위한 문제들로 구성되어 있습니다.\n",
    "답을 작성할 때 직접 손으로 푸는 방식과 파이썬 프로그램으로 푸는 방식 두가지 모두 적용해서 풀어야합니다."
   ]
  },
  {
   "cell_type": "markdown",
   "id": "d344ecbb",
   "metadata": {},
   "source": []
  },
  {
   "cell_type": "markdown",
   "id": "63a47ff7",
   "metadata": {},
   "source": [
    "## ✅ 1. 벡터의 기본 연산\n",
    "다음 벡터 `v1 = [1, 2]`, `v2 = [3, 4]`에 대해 다음 연산을 수행하시오.\n",
    "\n",
    "1. 두 벡터의 합\n",
    "2. 두 벡터의 차\n",
    "3. v1의 크기 (norm)\n",
    "4. v2의 2배 스칼라 곱"
   ]
  },
  {
   "cell_type": "code",
   "execution_count": 2,
   "id": "81d7877d",
   "metadata": {},
   "outputs": [
    {
     "name": "stdout",
     "output_type": "stream",
     "text": [
      "Sum: [4 6]\n",
      "Difference: [-2 -2]\n",
      "Norm of v1: 3.0\n",
      "Scaled v2: [6 8]\n"
     ]
    }
   ],
   "source": [
    "import numpy as np\n",
    "\n",
    "v1 = np.array([1, 2])\n",
    "v2 = np.array([3, 4])\n",
    "\n",
    "# 1. 두 벡터의 합\n",
    "v_sum = v1 + v2\n",
    "print(\"Sum:\", v_sum)\n",
    "\n",
    "# 2. 두 벡터의 차\n",
    "v_diff = v1 - v2\n",
    "print(\"Difference:\", v_diff)\n",
    "\n",
    "# 3. v1의 크기 (norm)\n",
    "v1_norm = np.linalg.norm(v1, ord=1) \n",
    "print(\"Norm of v1:\", v1_norm)\n",
    "\n",
    "# 4. v2의 2배 스칼라 곱\n",
    "v2_scaled = 2 * v2\n",
    "print(\"Scaled v2:\", v2_scaled)"
   ]
  },
  {
   "cell_type": "markdown",
   "id": "cfb0ccbf",
   "metadata": {},
   "source": [
    "## ✅ 2. 벡터의 내적 (dot product)\n",
    "다음 두 벡터의 내적을 구하시오.\n",
    "```python\n",
    "v1 = [2, 3]\n",
    "v2 = [4, -1]\n",
    "```"
   ]
  },
  {
   "cell_type": "code",
   "execution_count": 3,
   "id": "86b92297",
   "metadata": {},
   "outputs": [
    {
     "name": "stdout",
     "output_type": "stream",
     "text": [
      "Dot product: 5\n"
     ]
    }
   ],
   "source": [
    "# dot product\n",
    "v1 = np.array([2, 3])\n",
    "v2 = np.array([4, -1])\n",
    "dot_product = np.dot(v1, v2)\n",
    "print(\"Dot product:\", dot_product)"
   ]
  },
  {
   "cell_type": "markdown",
   "id": "94d9729b",
   "metadata": {},
   "source": [
    "## ✅ 3. 단위 벡터 구하기\n",
    "다음 벡터의 단위벡터(unit vector)를 구하시오.  \n",
    "```python\n",
    "v = [3, 4]\n",
    "```\n",
    "> 힌트: 단위벡터는 해당 벡터를 그 크기로 나누면 됩니다."
   ]
  },
  {
   "cell_type": "code",
   "execution_count": 4,
   "id": "77628b03",
   "metadata": {},
   "outputs": [
    {
     "name": "stdout",
     "output_type": "stream",
     "text": [
      "Unit vector of v1: [0.6 0.8]\n"
     ]
    }
   ],
   "source": [
    "# unit vector\n",
    "v1 = np.array([3, 4])\n",
    "unit_vector = v1 / np.linalg.norm(v1)\n",
    "print(\"Unit vector of v1:\", unit_vector)"
   ]
  },
  {
   "cell_type": "markdown",
   "id": "4371e654",
   "metadata": {},
   "source": [
    "## ✅ 4. 직교 여부 확인\n",
    "다음 두 벡터가 직교(orthogonal)한지 확인하시오.\n",
    "```python\n",
    "v1 = [1, 2]\n",
    "v2 = [2, -1]\n",
    "```\n",
    "> 내적이 0이면 직교입니다."
   ]
  },
  {
   "cell_type": "code",
   "execution_count": 5,
   "id": "b13538f5",
   "metadata": {},
   "outputs": [
    {
     "name": "stdout",
     "output_type": "stream",
     "text": [
      "The vectors are orthogonal\n"
     ]
    }
   ],
   "source": [
    "v1 = np.array([1, 2])\n",
    "v2 = np.array([2, -1])\n",
    "\n",
    "result = np.dot(v1, v2)\n",
    "if result == 0:\n",
    "    print(\"The vectors are orthogonal\")\n",
    "else:\n",
    "    print(result)"
   ]
  },
  {
   "cell_type": "markdown",
   "id": "3b8ba7fb",
   "metadata": {},
   "source": [
    "## ✅ 5. 위치 벡터와 벡터 사이 거리\n",
    "다음 두 점의 위치 벡터를 `p1 = [1, 2]`, `p2 = [4, 6]`라고 할 때:\n",
    "\n",
    "1. 두 점 사이의 유클리드 거리(Euclidean distance)를 구하시오.\n",
    "2. 두 벡터의 차 벡터를 구하시오."
   ]
  },
  {
   "cell_type": "code",
   "execution_count": 7,
   "id": "585cb6f4",
   "metadata": {},
   "outputs": [
    {
     "name": "stdout",
     "output_type": "stream",
     "text": [
      "Euclidean distance: 5.0\n"
     ]
    }
   ],
   "source": [
    "# 6. Euclidean distance\n",
    "p1 = np.array([1, 2])\n",
    "p2 = np.array([4, 6])\n",
    "euclidean_distance = np.linalg.norm(p1 - p2)\n",
    "print(\"Euclidean distance:\", euclidean_distance)"
   ]
  },
  {
   "cell_type": "markdown",
   "id": "df6150b4",
   "metadata": {},
   "source": [
    "## ✅ 6. 코사인 유사도\n",
    "다음 두 벡터의 코사인 유사도(Cosine Similarity)를 구하시오.\n",
    "```python\n",
    "v1 = [1, 2]\n",
    "v2 = [2, 3]\n",
    "```\n",
    "> 힌트:  \n",
    "> $\\cos(\\theta) = \\frac{v1 \\cdot v2}{\\|v1\\| \\cdot \\|v2\\|}$"
   ]
  },
  {
   "cell_type": "code",
   "execution_count": 6,
   "id": "87c4aa92",
   "metadata": {},
   "outputs": [
    {
     "name": "stdout",
     "output_type": "stream",
     "text": [
      "Cosine similarity: 0.9922778767136677\n"
     ]
    }
   ],
   "source": [
    "# 7. 코사인 유사도\n",
    "from scipy.spatial.distance import cosine\n",
    "\n",
    "v1 = np.array([1, 2])\n",
    "v2 = np.array([2, 3])\n",
    "cosine_similarity = 1 - cosine(v1, v2)\n",
    "print(\"Cosine similarity:\", cosine_similarity)\n"
   ]
  },
  {
   "cell_type": "markdown",
   "id": "b7cbb532",
   "metadata": {},
   "source": [
    "## ✅ 7. 3차원 벡터 문제\n",
    "다음 3차원 벡터 `v1 = [1, 2, 3]`, `v2 = [-1, 0, 1]`에 대해:\n",
    "\n",
    "1. 두 벡터의 내적을 구하시오.  \n",
    "2. 두 벡터가 이루는 각의 코사인 값을 구하시오.  \n",
    "3. 두 벡터가 직교하는지 확인하시오."
   ]
  },
  {
   "cell_type": "code",
   "execution_count": 9,
   "id": "01c59309",
   "metadata": {},
   "outputs": [
    {
     "name": "stdout",
     "output_type": "stream",
     "text": [
      "Dot product: 2\n",
      "Cosine similarity: 0.3779644730092272\n",
      "The vectors are not orthogonal\n"
     ]
    }
   ],
   "source": [
    "v1 = np.array([1, 2, 3])\n",
    "v2 = np.array([-1, 0, 1])\n",
    "\n",
    "# 내적\n",
    "dot_product = np.dot(v1, v2)\n",
    "print(\"Dot product:\", dot_product)\n",
    "\n",
    "# 코사인 유사도\n",
    "cosine_similarity = 1 - cosine(v1, v2)\n",
    "print(\"Cosine similarity:\", cosine_similarity)\n",
    "\n",
    "# 직교여부\n",
    "if dot_product == 0:\n",
    "    print(\"The vectors are orthogonal\")\n",
    "else:\n",
    "    print(\"The vectors are not orthogonal\")"
   ]
  },
  {
   "cell_type": "markdown",
   "id": "4d164400",
   "metadata": {},
   "source": [
    "## ✅ 8. 응용 문제: 문서 유사도\n",
    "TF-IDF 벡터로 표현된 다음 문서 벡터가 있을 때, 유사도를 비교하시오.\n",
    "```python\n",
    "doc1 = [0.1, 0.3, 0.6]\n",
    "doc2 = [0.2, 0.1, 0.7]\n",
    "doc3 = [0.9, 0.8, 0.1]\n",
    "```\n",
    "- doc1과 doc2, doc1과 doc3의 코사인 유사도를 각각 계산하고, 어떤 문서가 doc1에 더 유사한지 판단하시오."
   ]
  },
  {
   "cell_type": "code",
   "execution_count": null,
   "id": "180798d6",
   "metadata": {},
   "outputs": [
    {
     "name": "stdout",
     "output_type": "stream",
     "text": [
      "v1 and v2 have the higher cosine similarity.\n",
      "Maximum cosine similarity: 0.9430225158385255\n"
     ]
    }
   ],
   "source": [
    "# 8. 벡터의 외적\n",
    "v1 = np.array([0.1, 0.3, 0.6])\n",
    "v2 = np.array([0.2, 0.1, 0.7])\n",
    "v3 = np.array([0.9, 0.8, 0.1])\n",
    "\n",
    "cosine_similarity_v1_v2 = 1 - cosine(v1, v2)\n",
    "cosine_similarity_v1_v3 = 1 - cosine(v1, v3)\n",
    "\n",
    "# 최대값 계산\n",
    "result = max(cosine_similarity_v1_v2, cosine_similarity_v1_v3)\n",
    "\n",
    "# 비교 출력\n",
    "if cosine_similarity_v1_v2 > cosine_similarity_v1_v3:\n",
    "    print(\"v1 and v2 have the higher cosine similarity.\")\n",
    "    print(\"Maximum cosine similarity:\", result)\n",
    "elif cosine_similarity_v1_v2 < cosine_similarity_v1_v3:\n",
    "    print(\"v1 and v3 have the higher cosine similarity.\")\n",
    "    print(\"Maximum cosine similarity:\", result)\n",
    "else:\n",
    "    print(\"v1 and v2, v1 and v3 have equal cosine similarity.\")\n",
    "\n",
    "\n",
    "\n"
   ]
  }
 ],
 "metadata": {
  "kernelspec": {
   "display_name": "base",
   "language": "python",
   "name": "python3"
  },
  "language_info": {
   "codemirror_mode": {
    "name": "ipython",
    "version": 3
   },
   "file_extension": ".py",
   "mimetype": "text/x-python",
   "name": "python",
   "nbconvert_exporter": "python",
   "pygments_lexer": "ipython3",
   "version": "3.12.7"
  }
 },
 "nbformat": 4,
 "nbformat_minor": 5
}
