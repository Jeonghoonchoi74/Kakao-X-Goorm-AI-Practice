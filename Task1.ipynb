{
 "cells": [
  {
   "cell_type": "markdown",
   "metadata": {},
   "source": [
    "수업 중 주어진 Task\n",
    "\n",
    "주어진 코드:\n",
    "\n",
    "name = input(\"이름을 입력하세요: \")\n",
    "\n",
    "age = int(input(\"나이를 입력하세요: \"))\n",
    "\n",
    "height = float(input(\"키를 입력하세요: \"))\n",
    "\n",
    "출력 예시:\n",
    "\n",
    "안녕하세요, 홍길동님!\n",
    "\n",
    "나이: 25\n",
    "\n",
    "키: 175.50 cm"
   ]
  },
  {
   "cell_type": "code",
   "execution_count": null,
   "metadata": {},
   "outputs": [
    {
     "name": "stdout",
     "output_type": "stream",
     "text": [
      "안녕하세요 홍길동님!\n",
      "\n",
      "나이:25 \n",
      "\n",
      "키: 175.50cm\n"
     ]
    }
   ],
   "source": [
    "name = input('이름을 입력하세요: ')\n",
    "age = int(input('나이를 이렵하세요: '))\n",
    "height = float(input('키를 입력하세요: '))\n",
    "\n",
    "print('안녕하세요, %s님!\\n' %(name))\n",
    "print('나이: %d \\n' %(age))\n",
    "print('키: %.2fcm' %(height))"
   ]
  }
 ],
 "metadata": {
  "kernelspec": {
   "display_name": "base",
   "language": "python",
   "name": "python3"
  },
  "language_info": {
   "codemirror_mode": {
    "name": "ipython",
    "version": 3
   },
   "file_extension": ".py",
   "mimetype": "text/x-python",
   "name": "python",
   "nbconvert_exporter": "python",
   "pygments_lexer": "ipython3",
   "version": "3.12.7"
  }
 },
 "nbformat": 4,
 "nbformat_minor": 2
}
