{
 "cells": [
  {
   "cell_type": "markdown",
   "id": "8c0f5dfd",
   "metadata": {},
   "source": [
    "### 📚 초급 딥러닝 미션: \"퍼셉트론과 다층 퍼셉트론 직접 구현하기\""
   ]
  },
  {
   "cell_type": "markdown",
   "id": "7e09d784",
   "metadata": {},
   "source": [
    "\n",
    "# 🎯 목표\n",
    "- 퍼셉트론(perceptron) 모델을 직접 코딩하여 논리 연산(AND, OR, XOR)을 구현한다.\n",
    "- 다층 퍼셉트론(MLP)을 직접 구현하고, XOR 문제를 해결한다.\n",
    "- 활성화 함수(sigmoid, ReLU 등)를 직접 만든다.\n",
    "- 가중치(weight)와 편향(bias)의 행렬 연산을 수작업으로 구현해본다.\n"
   ]
  },
  {
   "cell_type": "markdown",
   "id": "ad5b5077",
   "metadata": {},
   "source": [
    "\n",
    "## 📂 미션 구성\n"
   ]
  },
  {
   "cell_type": "markdown",
   "id": "421b96c4",
   "metadata": {},
   "source": [
    "\n",
    "### Part 1. 퍼셉트론(Perceptron)으로 논리 게이트 구현\n",
    "\n",
    "퍼셉트론 1개를 이용해 AND, OR 연산을 직접 구현합니다.  \n",
    "퍼셉트론의 수식:  \n",
    "$ y = \\text{step}(w_1x_1 + w_2x_2 + b) $\n",
    "\n",
    "**제시할 문제:**\n",
    "- AND 게이트를 퍼셉트론으로 구현해보고, (0,0), (0,1), (1,0), (1,1) 입력에 대해 출력 결과를 확인하세요.\n",
    "- OR 게이트도 같은 방식으로 구현하세요.\n"
   ]
  },
  {
   "cell_type": "code",
   "execution_count": null,
   "id": "c6592918",
   "metadata": {},
   "outputs": [],
   "source": [
    "# Perceptron AND OR\n",
    "import numpy as np\n",
    "def Perceptron (x,w,b):\n",
    "    y = np.sum(w*x) + b\n",
    "    if y <= 0:\n",
    "        return 0\n",
    "    else:\n",
    "        return 1"
   ]
  },
  {
   "cell_type": "code",
   "execution_count": null,
   "id": "8723c45c",
   "metadata": {},
   "outputs": [],
   "source": [
    "def AND (x1,x2):\n",
    "    x = np.array([x1,x2])\n",
    "    w = np.array([0.5,0.5])\n",
    "    b = -0.7\n",
    "    return Perceptron(x,w,b)"
   ]
  },
  {
   "cell_type": "code",
   "execution_count": null,
   "id": "44738f36",
   "metadata": {},
   "outputs": [],
   "source": [
    "def OR (x1,x2):\n",
    "    x = np.array([x1,x2])\n",
    "    w = np.array([0.5,0.5])\n",
    "    b = -0.2\n",
    "    return Perceptron(x,w,b)"
   ]
  },
  {
   "cell_type": "code",
   "execution_count": null,
   "id": "e705d151",
   "metadata": {},
   "outputs": [],
   "source": [
    "def NAND (x1,x2):\n",
    "    x = np.array([x1,x2])\n",
    "    w = np.array([-0.5,-0.5])\n",
    "    b = 0.7\n",
    "    return Perceptron(x,w,b)"
   ]
  },
  {
   "cell_type": "code",
   "execution_count": null,
   "id": "d05bbdc6",
   "metadata": {},
   "outputs": [
    {
     "name": "stdout",
     "output_type": "stream",
     "text": [
      "x1: 0 x2: 0 AND: 0 OR: 0\n",
      "x1: 0 x2: 1 AND: 0 OR: 1\n",
      "x1: 1 x2: 0 AND: 0 OR: 1\n",
      "x1: 1 x2: 1 AND: 1 OR: 1\n"
     ]
    }
   ],
   "source": [
    "array = np.array([[0,0],[0,1],[1,0],[1,1]])\n",
    "for i in range(len(array)):\n",
    "    x1 = array[i][0]\n",
    "    x2 = array[i][1]\n",
    "    print(\"x1:\",x1,\"x2:\",x2,\"AND:\",AND(x1,x2),\"OR:\",OR(x1,x2))"
   ]
  },
  {
   "cell_type": "markdown",
   "id": "9c4b3431",
   "metadata": {},
   "source": [
    "\n",
    "### Part 2. 다층 퍼셉트론(MLP)으로 XOR 문제 해결\n",
    "\n",
    "XOR 문제는 단일 퍼셉트론으로 해결할 수 없습니다.  \n",
    "2개의 은닉 뉴런(hidden neuron)을 가진 간단한 다층 퍼셉트론을 구현하세요.\n",
    "\n",
    "구성:\n",
    "- 입력층(2개) → 은닉층(2개 뉴런, 활성화 함수 사용) → 출력층(1개 뉴런, 활성화 함수 사용)\n",
    "\n",
    "**힌트:**\n",
    "- 은닉층에서는 ReLU, 출력층에서는 Sigmoid를 사용할 수 있습니다.\n"
   ]
  },
  {
   "cell_type": "code",
   "execution_count": null,
   "id": "a98d903f",
   "metadata": {},
   "outputs": [
    {
     "name": "stdout",
     "output_type": "stream",
     "text": [
      "\n",
      "XOR 게이트 결과:\n",
      "0, 0 => 0\n",
      "0, 1 => 1\n",
      "1, 0 => 1\n",
      "1, 1 => 0\n"
     ]
    }
   ],
   "source": [
    "import numpy as np\n",
    "\n",
    "# ReLU 함수\n",
    "def relu(x):\n",
    "    return np.maximum(0, x)\n",
    "\n",
    "# Sigmoid 함수\n",
    "def sigmoid(x):\n",
    "    return 1 / (1 + np.exp(-x))\n",
    "\n",
    "# XOR 함수\n",
    "def XOR(x1, x2):\n",
    "    # 1번째 층 (입력 → 은닉층)\n",
    "    W1 = np.array([[1.0, 1.0], \n",
    "                   [1.0, 1.0]])    # 2개 뉴런\n",
    "    b1 = np.array([0.0, -1.0])      # 편향\n",
    "    x = np.array([x1, x2])\n",
    "    z1 = np.dot(x, W1) + b1\n",
    "    a1 = relu(z1)                  # 활성화 함수 적용\n",
    "    \n",
    "    # 2번째 층 (은닉층 → 출력층)\n",
    "    W2 = np.array([1.0, -2.0])      # 출력 1개 뉴런\n",
    "    b2 = -0.5\n",
    "    z2 = np.dot(a1, W2) + b2\n",
    "    y = sigmoid(z2)                # sigmoid로 확률 변환\n",
    "\n",
    "    return int(y > 0.5)             # 0.5 초과면 1 출력\n",
    "\n",
    "# 테스트\n",
    "print(\"\\nXOR 게이트 결과:\")\n",
    "for x1 in [0, 1]:\n",
    "    for x2 in [0, 1]:\n",
    "        print(f\"{x1}, {x2} => {XOR(x1, x2)}\")\n"
   ]
  },
  {
   "cell_type": "markdown",
   "id": "25c798b4",
   "metadata": {},
   "source": [
    "\n",
    "### Part 3. 활성화 함수 직접 구현하기\n",
    "\n",
    "- Sigmoid 함수와 ReLU 함수를 직접 정의하세요.\n",
    "\n",
    "수식:\n",
    "- Sigmoid:  \n",
    "$ \\sigma(x) = \\frac{1}{1 + e^{-x}} $\n",
    "- ReLU:  \n",
    "$ \\text{ReLU}(x) = \\max(0, x) $\n",
    "\n",
    "**추가 문제:**\n",
    "- Sigmoid와 ReLU를 각각 그래프로 시각화해서 차이를 설명해보세요.\n"
   ]
  },
  {
   "cell_type": "code",
   "execution_count": null,
   "id": "acdb275b",
   "metadata": {},
   "outputs": [],
   "source": [
    "# Sigmoid function and ReLU\n",
    "def sigmoid(x):\n",
    "    return 1/(1+np.exp(-x))\n",
    "\n",
    "def ReLU(x):\n",
    "    return np.maximum(0,x)"
   ]
  },
  {
   "cell_type": "code",
   "execution_count": null,
   "id": "944f3f11",
   "metadata": {},
   "outputs": [
    {
     "data": {
      "image/png": "[encoded data removed]",
      "text/plain": [
       "<Figure size 1200x600 with 2 Axes>"
      ]
     },
     "metadata": {},
     "output_type": "display_data"
    }
   ],
   "source": [
    "# visualization\n",
    "import matplotlib.pyplot as plt\n",
    "x = np.linspace(-10, 10, 100)\n",
    "y_sigmoid = sigmoid(x)\n",
    "y_relu = np.maximum(0, x)\n",
    "\n",
    "# 그래프 생성\n",
    "plt.figure(figsize=(12, 6))\n",
    "\n",
    "# Sigmoid 그래프\n",
    "plt.subplot(1, 2, 1)\n",
    "plt.plot(x, y_sigmoid, 'b-', label='Sigmoid')\n",
    "plt.grid(True)\n",
    "plt.title('Sigmoid Function')\n",
    "plt.xlabel('x')\n",
    "plt.ylabel('y')\n",
    "plt.legend()\n",
    "\n",
    "# ReLU 그래프 \n",
    "plt.subplot(1, 2, 2)\n",
    "plt.plot(x, y_relu, 'r-', label='ReLU')\n",
    "plt.grid(True)\n",
    "plt.title('ReLU Function')\n",
    "plt.xlabel('x')\n",
    "plt.ylabel('y')\n",
    "plt.legend()\n",
    "\n",
    "plt.show()\n",
    "\n",
    "\n"
   ]
  },
  {
   "cell_type": "markdown",
   "id": "074395bc",
   "metadata": {},
   "source": [
    "시그모이드와 ReLU 함수의 주요 차이점:\n",
    "\n",
    "1. 출력 범위:\n",
    "   - 시그모이드: 0에서 1 사이의 값으로 제한됨\n",
    "   - ReLU: 0 이상의 모든 양수 값 가능\n",
    "\n",
    "2. 기울기 특성:\n",
    "   - 시그모이드: x가 큰 값이나 작은 값에서 기울기가 0에 가까워짐 (기울기 소실 문제)\n",
    "   - ReLU: x > 0 인 영역에서 일정한 기울기 1을 유지\n",
    "\n",
    "3. 계산 효율성:\n",
    "   - 시그모이드: 지수 함수 계산이 필요해 상대적으로 복잡\n",
    "   - ReLU: 단순 비교 연산으로 계산이 매우 빠름"
   ]
  },
  {
   "cell_type": "markdown",
   "id": "af6c60c2",
   "metadata": {},
   "source": [
    "\n",
    "### Part 4. 행렬 곱 연산으로 퍼셉트론 계산하기\n",
    "\n",
    "- 2차원 입력 벡터와 가중치 행렬을 곱해서 퍼셉트론 출력을 계산하세요.\n",
    "- 넘파이(Numpy)만 사용 가능합니다 (PyTorch, TensorFlow 사용 금지).\n",
    "\n",
    "**포맷:**\n",
    "- 입력 $X = [x_1, x_2]$\n",
    "- 가중치 행렬 $W = \\begin{bmatrix} w_{11} & w_{12} \\\\ w_{21} & w_{22} \\end{bmatrix}$\n",
    "- 편향 벡터 $b = [b_1, b_2]$\n",
    "\n",
    "출력:  \n",
    "$ y = \\text{activation}(XW + b) $\n"
   ]
  },
  {
   "cell_type": "code",
   "execution_count": null,
   "id": "8aea57f1",
   "metadata": {},
   "outputs": [
    {
     "name": "stdout",
     "output_type": "stream",
     "text": [
      "Output: [2.3 3.8]\n"
     ]
    }
   ],
   "source": [
    "def activation(x, w, b):\n",
    "    y = np.dot(x, w) + b \n",
    "    return y\n",
    "\n",
    "x = np.array([0.5, 0.5])\n",
    "w = np.array([[5.0, 7.0],\n",
    "              [1.0, 1.0]])\n",
    "b = np.array([-0.7, -0.2])\n",
    "\n",
    "y = activation(x, w, b)\n",
    "print(\"Output:\", y)\n"
   ]
  },
  {
   "cell_type": "markdown",
   "id": "0c3d1594",
   "metadata": {},
   "source": [
    "\n",
    "## ✅ 제출할 것\n",
    "- 각각의 Part에 대해 코드와 출력 결과\n",
    "- 그래프가 필요한 경우 (활성화 함수 그래프) 시각화 결과 포함\n",
    "- 각 코드 블록 위에 간단한 설명 주석 추가\n"
   ]
  },
  {
   "cell_type": "markdown",
   "id": "0890d792",
   "metadata": {},
   "source": [
    "\n",
    "## ✨ 추가 보너스 과제 (선택)\n",
    "- 은닉층 뉴런 수를 2개 이상으로 바꿔보고, XOR 문제 성능 변화를 관찰하세요.\n",
    "- 시그모이드 대신 하이퍼볼릭 탄젠트 함수(tanh)를 사용해서 비교해보세요.\n"
   ]
  },
  {
   "cell_type": "markdown",
   "id": "08d87ef7",
   "metadata": {},
   "source": [
    "\n",
    "## 📋 체크리스트\n",
    "| 체크 항목 | 완료 여부 |\n",
    "|:---|:---:|\n",
    "| 퍼셉트론으로 AND/OR 구현 | ⬜ |\n",
    "| 다층 퍼셉트론으로 XOR 구현 | ⬜ |\n",
    "| 활성화 함수(Sigmoid, ReLU) 직접 구현 | ⬜ |\n",
    "| 가중치 행렬 연산으로 계산 | ⬜ |\n",
    "| 결과 설명과 출력 포함 | ⬜ |\n",
    "| (보너스) 은닉층 수 변화 실험 | ⬜ |\n"
   ]
  }
 ],
 "metadata": {
  "kernelspec": {
   "display_name": "base",
   "language": "python",
   "name": "python3"
  },
  "language_info": {
   "codemirror_mode": {
    "name": "ipython",
    "version": 3
   },
   "file_extension": ".py",
   "mimetype": "text/x-python",
   "name": "python",
   "nbconvert_exporter": "python",
   "pygments_lexer": "ipython3",
   "version": "3.12.7"
  }
 },
 "nbformat": 4,
 "nbformat_minor": 5
}
