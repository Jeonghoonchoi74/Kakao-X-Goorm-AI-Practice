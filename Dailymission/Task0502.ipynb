{
 "cells": [
  {
   "cell_type": "markdown",
   "id": "65e5750f",
   "metadata": {},
   "source": [
    "\n",
    "# 초급 딥러닝 미션: \"인공지능 마법사의 첫 번째 신경망\"\n",
    "\n",
    "## 🎯 학습 목표\n",
    "- 딥러닝 및 파이토치 기본 개념 이해\n",
    "- 텐서 생성 및 조작\n",
    "- `nn.Module` 기반 모델 작성\n",
    "- 시퀀셜 모델 구성\n",
    "- 손실함수, 옵티마이저, 학습 루프 직접 구현\n",
    "- 정확도 등 메트릭 계산 및 시각화\n"
   ]
  },
  {
   "cell_type": "markdown",
   "id": "56453caf",
   "metadata": {},
   "source": [
    "\n",
    "## 📂 사용 데이터셋\n",
    "**MNIST 손글씨 숫자 이미지** (10개 숫자 분류, 흑백 이미지)  \n",
    "👉 `torchvision.datasets.MNIST`에서 자동 다운로드 가능\n"
   ]
  },
  {
   "cell_type": "markdown",
   "id": "058f8d07",
   "metadata": {},
   "source": [
    "\n",
    "## 🧩 미션 구성\n",
    "\n",
    "### Part 1. 딥러닝과 파이토치 개요  \n",
    "❓ 문제 1  \n",
    "**딥러닝이 머신러닝과 다른 점은 무엇인가요?**  \n",
    "✔️ 정답: 특징 추출과 분류를 동시에 자동 학습 가능하다.\n",
    "\n",
    "❓ 문제 2  \n",
    "**파이토치의 핵심 구성 요소 3가지를 쓰세요.**  \n",
    "✔️ 정답: Tensor, Autograd, Module\n"
   ]
  },
  {
   "cell_type": "markdown",
   "id": "8c5b2f78",
   "metadata": {},
   "source": [
    "\n",
    "### Part 2. 텐서 연산 실습  \n",
    "🔧 실습 문제 3  \n",
    "아래 조건에 맞는 텐서를 생성하세요:  \n",
    "- 3x3 크기의 정규분포 난수 텐서\n",
    "- 모든 원소에 대해 ReLU 함수를 적용한 텐서\n",
    "\n",
    "힌트: `torch.randn`, `torch.relu`\n"
   ]
  },
  {
   "cell_type": "code",
   "execution_count": 1,
   "id": "266ba445",
   "metadata": {},
   "outputs": [
    {
     "name": "stdout",
     "output_type": "stream",
     "text": [
      "Requirement already satisfied: torch in c:\\users\\wjdgn\\appdata\\local\\programs\\python\\python312\\lib\\site-packages (2.7.0+cu126)\n",
      "Requirement already satisfied: filelock in c:\\users\\wjdgn\\appdata\\local\\programs\\python\\python312\\lib\\site-packages (from torch) (3.13.1)\n",
      "Requirement already satisfied: typing-extensions>=4.10.0 in c:\\users\\wjdgn\\appdata\\local\\programs\\python\\python312\\lib\\site-packages (from torch) (4.12.2)\n",
      "Requirement already satisfied: sympy>=1.13.3 in c:\\users\\wjdgn\\appdata\\local\\programs\\python\\python312\\lib\\site-packages (from torch) (1.13.3)\n",
      "Requirement already satisfied: networkx in c:\\users\\wjdgn\\appdata\\local\\programs\\python\\python312\\lib\\site-packages (from torch) (3.3)\n",
      "Requirement already satisfied: jinja2 in c:\\users\\wjdgn\\appdata\\local\\programs\\python\\python312\\lib\\site-packages (from torch) (3.1.4)\n",
      "Requirement already satisfied: fsspec in c:\\users\\wjdgn\\appdata\\local\\programs\\python\\python312\\lib\\site-packages (from torch) (2024.6.1)\n",
      "Requirement already satisfied: setuptools in c:\\users\\wjdgn\\appdata\\local\\programs\\python\\python312\\lib\\site-packages (from torch) (70.2.0)\n",
      "Requirement already satisfied: mpmath<1.4,>=1.1.0 in c:\\users\\wjdgn\\appdata\\local\\programs\\python\\python312\\lib\\site-packages (from sympy>=1.13.3->torch) (1.3.0)\n",
      "Requirement already satisfied: MarkupSafe>=2.0 in c:\\users\\wjdgn\\appdata\\local\\programs\\python\\python312\\lib\\site-packages (from jinja2->torch) (2.1.5)\n"
     ]
    }
   ],
   "source": [
    "!pip install torch"
   ]
  },
  {
   "cell_type": "code",
   "execution_count": 2,
   "id": "622f5f2d",
   "metadata": {},
   "outputs": [],
   "source": [
    "import torch\n",
    "from torchvision.datasets import MNIST"
   ]
  },
  {
   "cell_type": "code",
   "execution_count": 3,
   "id": "7f9ebc39",
   "metadata": {},
   "outputs": [
    {
     "name": "stdout",
     "output_type": "stream",
     "text": [
      "tensor([[-0.1065, -1.5277,  0.9730],\n",
      "        [-0.0482,  0.4950,  0.0349],\n",
      "        [ 1.2314,  1.1349,  0.5046]])\n",
      "tensor([[0.0000, 0.0000, 0.9730],\n",
      "        [0.0000, 0.4950, 0.0349],\n",
      "        [1.2314, 1.1349, 0.5046]])\n"
     ]
    }
   ],
   "source": [
    "# Create a 3x3 tensor with random values from a normal distribution\n",
    "tensor = torch.randn(3, 3)\n",
    "print(tensor)\n",
    "\n",
    "tensor_relu = torch.relu(tensor)\n",
    "print(tensor_relu)"
   ]
  },
  {
   "cell_type": "markdown",
   "id": "82769594",
   "metadata": {},
   "source": [
    "\n",
    "### Part 3. 신경망 직접 만들기  \n",
    "🔧 실습 문제 4  \n",
    "다음과 같은 신경망을 `nn.Module` 클래스를 상속받아 구현하세요:\n",
    "\n",
    "- 입력: 28×28 이미지 → 784차원\n",
    "- 은닉층: 128개 뉴런, 활성화 함수 ReLU\n",
    "- 출력층: 10개 뉴런, 소프트맥스\n"
   ]
  },
  {
   "cell_type": "code",
   "execution_count": 4,
   "id": "97300a29",
   "metadata": {},
   "outputs": [],
   "source": [
    "import torch.nn as nn\n",
    "\n",
    "class MyNet(nn.Module):\n",
    "    def __init__(self):\n",
    "        super(MyNet, self).__init__()\n",
    "        \n",
    "        self.fc1 = nn.Linear(28*28, 128)\n",
    "        self.relu = nn.ReLU()\n",
    "        self.fc2 = nn.Linear(128, 10)\n",
    "\n",
    "    def forward(self, x):\n",
    "        x = x.view(-1, 28*28)   \n",
    "        x = self.relu(self.fc1(x))\n",
    "        x = self.fc2(x)\n",
    "        return x  "
   ]
  },
  {
   "cell_type": "markdown",
   "id": "39110a28",
   "metadata": {},
   "source": [
    "\n",
    "### Part 4. 시퀀셜 모델 구성  \n",
    "🔧 실습 문제 5  \n",
    "동일한 구조를 `nn.Sequential`을 사용하여 작성하세요.\n",
    "\n",
    "힌트: `nn.Sequential(...)`\n"
   ]
  },
  {
   "cell_type": "code",
   "execution_count": 5,
   "id": "ff07bda8",
   "metadata": {},
   "outputs": [],
   "source": [
    "sequential_model = nn.Sequential(\n",
    "    nn.Flatten(),\n",
    "    nn.Linear(28*28, 128),\n",
    "    nn.ReLU(),\n",
    "    nn.Linear(128, 10)\n",
    ")"
   ]
  },
  {
   "cell_type": "code",
   "execution_count": 6,
   "id": "2e808a3a",
   "metadata": {},
   "outputs": [
    {
     "data": {
      "text/plain": [
       "Sequential(\n",
       "  (0): Flatten(start_dim=1, end_dim=-1)\n",
       "  (1): Linear(in_features=784, out_features=128, bias=True)\n",
       "  (2): ReLU()\n",
       "  (3): Linear(in_features=128, out_features=10, bias=True)\n",
       ")"
      ]
     },
     "execution_count": 6,
     "metadata": {},
     "output_type": "execute_result"
    }
   ],
   "source": [
    "sequential_model"
   ]
  },
  {
   "cell_type": "markdown",
   "id": "d895ff92",
   "metadata": {},
   "source": [
    "### Part 5. 손실함수와 옵티마이저  \n",
    "🔧 실습 문제 6  \n",
    "다음 코드에서 손실함수와 옵티마이저를 정의하세요:\n",
    "\n",
    "```python\n",
    "model = MyNet()\n",
    "# 손실 함수 정의\n",
    "# 옵티마이저 정의\n",
    "```\n",
    "\n",
    "요구사항:\n",
    "- 손실 함수: `CrossEntropyLoss`\n",
    "- 옵티마이저: `SGD`, 학습률 0.01\n"
   ]
  },
  {
   "cell_type": "code",
   "execution_count": 7,
   "id": "c253848d",
   "metadata": {},
   "outputs": [],
   "source": [
    "import torch.optim as optim\n",
    "\n",
    "model = MyNet()\n",
    "\n",
    "# 손실 함수 정의\n",
    "criterion = nn.CrossEntropyLoss()\n",
    "\n",
    "# 옵티마이저 정의\n",
    "optimizer = torch.optim.SGD(model.parameters(), lr=0.01)\n"
   ]
  },
  {
   "cell_type": "code",
   "execution_count": 8,
   "id": "dda4b1f3",
   "metadata": {},
   "outputs": [
    {
     "name": "stdout",
     "output_type": "stream",
     "text": [
      "MyNet(\n",
      "  (fc1): Linear(in_features=784, out_features=128, bias=True)\n",
      "  (relu): ReLU()\n",
      "  (fc2): Linear(in_features=128, out_features=10, bias=True)\n",
      ")\n",
      "CrossEntropyLoss()\n",
      "SGD (\n",
      "Parameter Group 0\n",
      "    dampening: 0\n",
      "    differentiable: False\n",
      "    foreach: None\n",
      "    fused: None\n",
      "    lr: 0.01\n",
      "    maximize: False\n",
      "    momentum: 0\n",
      "    nesterov: False\n",
      "    weight_decay: 0\n",
      ")\n"
     ]
    }
   ],
   "source": [
    "print(model)\n",
    "print(criterion)\n",
    "print(optimizer)"
   ]
  },
  {
   "cell_type": "markdown",
   "id": "8b400a00",
   "metadata": {},
   "source": [
    "\n",
    "### Part 6. 데이터셋 및 데이터로더  \n",
    "🔧 실습 문제 7  \n",
    "`torchvision.datasets.MNIST`를 사용하여 학습 및 검증 데이터를 불러오고, `DataLoader`를 사용하여 배치 사이즈 64로 나누세요.\n"
   ]
  },
  {
   "cell_type": "code",
   "execution_count": 9,
   "id": "664343fd",
   "metadata": {},
   "outputs": [
    {
     "name": "stderr",
     "output_type": "stream",
     "text": [
      "100.0%\n",
      "100.0%\n",
      "100.0%\n",
      "100.0%\n"
     ]
    }
   ],
   "source": [
    "from torchvision import datasets, transforms\n",
    "from torch.utils.data import DataLoader\n",
    "\n",
    "transform = transforms.ToTensor()\n",
    "\n",
    "train_data = datasets.MNIST(root='./data', train=True, download=True, transform=transform)\n",
    "test_data = datasets.MNIST(root='./data', train=False, download=True, transform=transform)\n",
    "\n",
    "train_loader = DataLoader(train_data, batch_size=64, shuffle=True)\n",
    "test_loader = DataLoader(test_data, batch_size=64, shuffle=False)"
   ]
  },
  {
   "cell_type": "markdown",
   "id": "60a22e83",
   "metadata": {},
   "source": [
    "\n",
    "### Part 7. 학습 루프 구현하기  \n",
    "🔧 실습 문제 8  \n",
    "기본적인 학습 루프를 구현하세요. 다음을 포함해야 합니다:\n",
    "- 배치 단위 데이터 가져오기\n",
    "- 예측값 계산 (`model(x)`)\n",
    "- 손실 계산 및 역전파\n",
    "- 파라미터 업데이트\n"
   ]
  },
  {
   "cell_type": "code",
   "execution_count": 10,
   "id": "dd5711b4",
   "metadata": {},
   "outputs": [
    {
     "name": "stdout",
     "output_type": "stream",
     "text": [
      "Epoch 1 완료\n"
     ]
    }
   ],
   "source": [
    "for epoch in range(1):\n",
    "    for images, labels in train_loader:\n",
    "        optimizer.zero_grad()  # 기울기 초기화\n",
    "        output = model(images)  # 모델에 입력\n",
    "        loss = criterion(output, labels)  # 손실 계산\n",
    "        loss.backward()  # 역전파\n",
    "        optimizer.step()  # 가중치 업데이트\n",
    "    print(f'Epoch {epoch+1} 완료')\n"
   ]
  },
  {
   "cell_type": "markdown",
   "id": "c19afcdd",
   "metadata": {},
   "source": [
    "\n",
    "### Part 8. 정확도(Accuracy) 계산  \n",
    "🔧 실습 문제 9  \n",
    "모델이 얼마나 잘 맞췄는지 정확도를 직접 계산하는 함수를 작성하세요.\n"
   ]
  },
  {
   "cell_type": "code",
   "execution_count": 11,
   "id": "d4bd1cbf",
   "metadata": {},
   "outputs": [
    {
     "name": "stdout",
     "output_type": "stream",
     "text": [
      "Accuracy: 86.38%\n"
     ]
    }
   ],
   "source": [
    "def evaluate_model(model, test_loader):\n",
    "    model.eval()  # 평가 모드로 전환\n",
    "    correct = 0\n",
    "    total = 0\n",
    "\n",
    "    with torch.no_grad():  # 기울기 계산 비활성화\n",
    "        for images, labels in test_loader:\n",
    "            outputs = model(images)\n",
    "            _, predicted = torch.max(outputs.data, 1)\n",
    "            total += labels.size(0)\n",
    "            correct += (predicted == labels).sum().item()\n",
    "    return correct / total\n",
    "acc = evaluate_model(model, test_loader)\n",
    "print(f'Accuracy: {acc * 100:.2f}%')"
   ]
  },
  {
   "cell_type": "markdown",
   "id": "0aa821ee",
   "metadata": {},
   "source": [
    "\n",
    "### Part 9. 학습 과정 시각화  \n",
    "🔧 실습 문제 10  \n",
    "에폭별 손실값을 저장하고 `matplotlib`을 이용해 학습 곡선을 시각화하세요.\n"
   ]
  },
  {
   "cell_type": "code",
   "execution_count": 14,
   "id": "a7bcc632",
   "metadata": {},
   "outputs": [
    {
     "name": "stdout",
     "output_type": "stream",
     "text": [
      "Requirement already satisfied: matplotlib in c:\\users\\wjdgn\\appdata\\local\\programs\\python\\python312\\lib\\site-packages (3.10.3)\n",
      "Requirement already satisfied: contourpy>=1.0.1 in c:\\users\\wjdgn\\appdata\\local\\programs\\python\\python312\\lib\\site-packages (from matplotlib) (1.3.2)\n",
      "Requirement already satisfied: cycler>=0.10 in c:\\users\\wjdgn\\appdata\\local\\programs\\python\\python312\\lib\\site-packages (from matplotlib) (0.12.1)\n",
      "Requirement already satisfied: fonttools>=4.22.0 in c:\\users\\wjdgn\\appdata\\local\\programs\\python\\python312\\lib\\site-packages (from matplotlib) (4.57.0)\n",
      "Requirement already satisfied: kiwisolver>=1.3.1 in c:\\users\\wjdgn\\appdata\\local\\programs\\python\\python312\\lib\\site-packages (from matplotlib) (1.4.8)\n",
      "Requirement already satisfied: numpy>=1.23 in c:\\users\\wjdgn\\appdata\\local\\programs\\python\\python312\\lib\\site-packages (from matplotlib) (2.2.5)\n",
      "Requirement already satisfied: packaging>=20.0 in c:\\users\\wjdgn\\appdata\\roaming\\python\\python312\\site-packages (from matplotlib) (25.0)\n",
      "Requirement already satisfied: pillow>=8 in c:\\users\\wjdgn\\appdata\\local\\programs\\python\\python312\\lib\\site-packages (from matplotlib) (11.2.1)\n",
      "Requirement already satisfied: pyparsing>=2.3.1 in c:\\users\\wjdgn\\appdata\\local\\programs\\python\\python312\\lib\\site-packages (from matplotlib) (3.2.3)\n",
      "Requirement already satisfied: python-dateutil>=2.7 in c:\\users\\wjdgn\\appdata\\roaming\\python\\python312\\site-packages (from matplotlib) (2.9.0.post0)\n",
      "Requirement already satisfied: six>=1.5 in c:\\users\\wjdgn\\appdata\\roaming\\python\\python312\\site-packages (from python-dateutil>=2.7->matplotlib) (1.17.0)\n"
     ]
    }
   ],
   "source": [
    "!pip install matplotlib"
   ]
  },
  {
   "cell_type": "code",
   "execution_count": 15,
   "id": "5a28adaa",
   "metadata": {},
   "outputs": [
    {
     "name": "stdout",
     "output_type": "stream",
     "text": [
      "Epoch 1 Loss: 1.2703\n",
      "Epoch 2 Loss: 0.4998\n",
      "Epoch 3 Loss: 0.3965\n",
      "Epoch 4 Loss: 0.3554\n",
      "Epoch 5 Loss: 0.3308\n"
     ]
    },
    {
     "name": "stderr",
     "output_type": "stream",
     "text": [
      "C:\\Users\\wjdgn\\AppData\\Roaming\\Python\\Python312\\site-packages\\IPython\\core\\pylabtools.py:170: UserWarning: Glyph 54617 (\\N{HANGUL SYLLABLE HAG}) missing from font(s) DejaVu Sans.\n",
      "  fig.canvas.print_figure(bytes_io, **kw)\n",
      "C:\\Users\\wjdgn\\AppData\\Roaming\\Python\\Python312\\site-packages\\IPython\\core\\pylabtools.py:170: UserWarning: Glyph 49845 (\\N{HANGUL SYLLABLE SEUB}) missing from font(s) DejaVu Sans.\n",
      "  fig.canvas.print_figure(bytes_io, **kw)\n",
      "C:\\Users\\wjdgn\\AppData\\Roaming\\Python\\Python312\\site-packages\\IPython\\core\\pylabtools.py:170: UserWarning: Glyph 49552 (\\N{HANGUL SYLLABLE SON}) missing from font(s) DejaVu Sans.\n",
      "  fig.canvas.print_figure(bytes_io, **kw)\n",
      "C:\\Users\\wjdgn\\AppData\\Roaming\\Python\\Python312\\site-packages\\IPython\\core\\pylabtools.py:170: UserWarning: Glyph 49892 (\\N{HANGUL SYLLABLE SIL}) missing from font(s) DejaVu Sans.\n",
      "  fig.canvas.print_figure(bytes_io, **kw)\n",
      "C:\\Users\\wjdgn\\AppData\\Roaming\\Python\\Python312\\site-packages\\IPython\\core\\pylabtools.py:170: UserWarning: Glyph 44257 (\\N{HANGUL SYLLABLE GOG}) missing from font(s) DejaVu Sans.\n",
      "  fig.canvas.print_figure(bytes_io, **kw)\n",
      "C:\\Users\\wjdgn\\AppData\\Roaming\\Python\\Python312\\site-packages\\IPython\\core\\pylabtools.py:170: UserWarning: Glyph 49440 (\\N{HANGUL SYLLABLE SEON}) missing from font(s) DejaVu Sans.\n",
      "  fig.canvas.print_figure(bytes_io, **kw)\n"
     ]
    },
    {
     "data": {
      "image/png": "[encoded data removed]",
      "text/plain": [
       "<Figure size 640x480 with 1 Axes>"
      ]
     },
     "metadata": {},
     "output_type": "display_data"
    }
   ],
   "source": [
    "import matplotlib.pyplot as plt\n",
    "\n",
    "model = MyNet()\n",
    "optimizer = torch.optim.SGD(model.parameters(), lr=0.01)\n",
    "criterion = nn.CrossEntropyLoss()\n",
    "losses = []\n",
    "\n",
    "model.train()\n",
    "for epoch in range(5):\n",
    "    running_loss = 0.0\n",
    "    for images, labels in train_loader:\n",
    "        optimizer.zero_grad()\n",
    "        outputs = model(images)\n",
    "        loss = criterion(outputs, labels)\n",
    "        loss.backward()\n",
    "        optimizer.step()\n",
    "        running_loss += loss.item()\n",
    "    avg_loss = running_loss / len(train_loader)\n",
    "    losses.append(avg_loss)\n",
    "    print(f\"Epoch {epoch+1} Loss: {avg_loss:.4f}\")\n",
    "\n",
    "plt.plot(losses)\n",
    "plt.xlabel(\"Epoch\")\n",
    "plt.ylabel(\"Loss\")\n",
    "plt.title(\"학습 손실 곡선\")\n",
    "plt.show()\n"
   ]
  },
  {
   "cell_type": "code",
   "execution_count": 16,
   "id": "c81df2c0",
   "metadata": {},
   "outputs": [
    {
     "name": "stderr",
     "output_type": "stream",
     "text": [
      "C:\\Users\\wjdgn\\AppData\\Local\\Temp\\ipykernel_27160\\4074900138.py:16: UserWarning: Glyph 50696 (\\N{HANGUL SYLLABLE YE}) missing from font(s) DejaVu Sans.\n",
      "  plt.tight_layout()\n",
      "C:\\Users\\wjdgn\\AppData\\Local\\Temp\\ipykernel_27160\\4074900138.py:16: UserWarning: Glyph 52769 (\\N{HANGUL SYLLABLE CEUG}) missing from font(s) DejaVu Sans.\n",
      "  plt.tight_layout()\n",
      "C:\\Users\\wjdgn\\AppData\\Local\\Temp\\ipykernel_27160\\4074900138.py:16: UserWarning: Glyph 49892 (\\N{HANGUL SYLLABLE SIL}) missing from font(s) DejaVu Sans.\n",
      "  plt.tight_layout()\n",
      "C:\\Users\\wjdgn\\AppData\\Local\\Temp\\ipykernel_27160\\4074900138.py:16: UserWarning: Glyph 51228 (\\N{HANGUL SYLLABLE JE}) missing from font(s) DejaVu Sans.\n",
      "  plt.tight_layout()\n",
      "C:\\Users\\wjdgn\\AppData\\Roaming\\Python\\Python312\\site-packages\\IPython\\core\\pylabtools.py:170: UserWarning: Glyph 50696 (\\N{HANGUL SYLLABLE YE}) missing from font(s) DejaVu Sans.\n",
      "  fig.canvas.print_figure(bytes_io, **kw)\n",
      "C:\\Users\\wjdgn\\AppData\\Roaming\\Python\\Python312\\site-packages\\IPython\\core\\pylabtools.py:170: UserWarning: Glyph 52769 (\\N{HANGUL SYLLABLE CEUG}) missing from font(s) DejaVu Sans.\n",
      "  fig.canvas.print_figure(bytes_io, **kw)\n",
      "C:\\Users\\wjdgn\\AppData\\Roaming\\Python\\Python312\\site-packages\\IPython\\core\\pylabtools.py:170: UserWarning: Glyph 51228 (\\N{HANGUL SYLLABLE JE}) missing from font(s) DejaVu Sans.\n",
      "  fig.canvas.print_figure(bytes_io, **kw)\n"
     ]
    },
    {
     "data": {
      "image/png": "[encoded data removed]",
      "text/plain": [
       "<Figure size 1500x600 with 10 Axes>"
      ]
     },
     "metadata": {},
     "output_type": "display_data"
    }
   ],
   "source": [
    "model.eval()\n",
    "images, labels = next(iter(test_loader))\n",
    "images, labels = images[:10], labels[:10]\n",
    "\n",
    "with torch.no_grad():\n",
    "    outputs = model(images)\n",
    "    probs = torch.softmax(outputs, dim=1)\n",
    "    preds = torch.argmax(probs, dim=1)\n",
    "\n",
    "plt.figure(figsize=(15, 6))\n",
    "for i in range(10):\n",
    "    plt.subplot(2, 5, i+1)\n",
    "    plt.imshow(images[i].squeeze(), cmap='gray')\n",
    "    plt.title(f\"예측: {preds[i].item()} / 실제: {labels[i].item()}\")\n",
    "    plt.axis('off')\n",
    "plt.tight_layout()\n",
    "plt.show()\n"
   ]
  },
  {
   "cell_type": "markdown",
   "id": "ab27a56c",
   "metadata": {},
   "source": [
    "\n",
    "## 🎁 보너스 미션  \n",
    "- `nn.Module`과 `nn.Sequential` 방식의 모델을 비교  \n",
    "- 옵티마이저를 Adam으로 바꾸고 학습 결과 비교  \n",
    "- 은닉층 크기를 256으로 변경하여 과적합 여부 확인\n"
   ]
  }
 ],
 "metadata": {
  "kernelspec": {
   "display_name": "Python 3",
   "language": "python",
   "name": "python3"
  },
  "language_info": {
   "codemirror_mode": {
    "name": "ipython",
    "version": 3
   },
   "file_extension": ".py",
   "mimetype": "text/x-python",
   "name": "python",
   "nbconvert_exporter": "python",
   "pygments_lexer": "ipython3",
   "version": "3.12.7"
  }
 },
 "nbformat": 4,
 "nbformat_minor": 5
}
