{
 "cells": [
  {
   "cell_type": "code",
   "execution_count": 3,
   "id": "8e8e9993",
   "metadata": {},
   "outputs": [
    {
     "name": "stdout",
     "output_type": "stream",
     "text": [
      "word_token =  ['고기를', '아무렇게나', '구우려', '하면', '안', '돼', '.']\n",
      "result =  ['고기를', '구우려', '안', '돼']\n"
     ]
    }
   ],
   "source": [
    "import nltk\n",
    "from nltk.corpus import stopwords\n",
    "from nltk.tokenize import word_tokenize\n",
    "\n",
    "example = \"고기를 아무렇게나 구우려 하면 안 돼.\"\n",
    "stop_words = \"아무렇게나 하면 .\"\n",
    "stop_words = stop_words.split(' ') \n",
    "\n",
    "word_tokes = word_tokenize(example)\n",
    "result = []\n",
    "for w in word_tokes:\n",
    "    if w not in stop_words:\n",
    "        result.append(w)\n",
    "\n",
    "print('word_token = ', word_tokes)\n",
    "print('result = ', result)"
   ]
  },
  {
   "cell_type": "code",
   "execution_count": 5,
   "id": "ce79c5ab",
   "metadata": {},
   "outputs": [
    {
     "name": "stdout",
     "output_type": "stream",
     "text": [
      "[[1 1 2 1 2 1]]\n",
      "{'you': 4, 'know': 1, 'want': 3, 'your': 5, 'love': 2, 'because': 0}\n"
     ]
    }
   ],
   "source": [
    "from sklearn.feature_extraction.text import CountVectorizer\n",
    "corpus = ['you know I want your love. because I love you.']\n",
    "vector = CountVectorizer()\n",
    "print(vector.fit_transform(corpus).toarray())\n",
    "print(vector.vocabulary_)"
   ]
  }
 ],
 "metadata": {
  "kernelspec": {
   "display_name": "Python 3",
   "language": "python",
   "name": "python3"
  },
  "language_info": {
   "codemirror_mode": {
    "name": "ipython",
    "version": 3
   },
   "file_extension": ".py",
   "mimetype": "text/x-python",
   "name": "python",
   "nbconvert_exporter": "python",
   "pygments_lexer": "ipython3",
   "version": "3.12.7"
  }
 },
 "nbformat": 4,
 "nbformat_minor": 5
}
