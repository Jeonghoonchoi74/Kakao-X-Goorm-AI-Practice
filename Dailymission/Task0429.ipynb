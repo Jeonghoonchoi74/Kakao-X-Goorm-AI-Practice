{
 "cells": [
  {
   "cell_type": "markdown",
   "metadata": {},
   "source": [
    "---\n",
    "\n",
    "# 🧠 초급 딥러닝 실습 미션: \"MNIST 손글씨 숫자 인식기 직접 구현\"\n",
    "\n",
    "## 🎯 학습 목표\n",
    "- 신경망의 기본 구조 이해 (입력층 - 은닉층 - 출력층)\n",
    "- NumPy 기반 행렬 내적 연산 이해\n",
    "- 활성화 함수 (ReLU, sigmoid, softmax) 구현 능력 배양\n",
    "- 사전 학습된 가중치를 사용한 추론 (inference) 수행\n",
    "- MNIST 손글씨 숫자 데이터셋의 이해 및 시각화\n",
    "\n",
    "---\n",
    "\n",
    "## 📂 사용 데이터셋\n",
    "- MNIST 손글씨 숫자 이미지 👉 `tensorflow.keras.datasets.mnist` 또는 `.npz` 파일 형태 제공\n",
    "- 사전 학습된 가중치 파일 (제공됨, `weights.npz`)\n",
    "\n",
    "---\n",
    "\n",
    "## 📌 과제 세부 항목\n",
    "\n",
    "### 문제 1. 활성화 함수 구현\n",
    "아래 활성화 함수를 직접 구현하세요 (NumPy 사용):\n",
    "\n",
    "- sigmoid\n",
    "- ReLU\n",
    "- softmax\n",
    "\n",
    "```python\n",
    "def sigmoid(x):\n",
    "    # 여기에 작성\n",
    "    pass\n",
    "\n",
    "def relu(x):\n",
    "    # 여기에 작성\n",
    "    pass\n",
    "\n",
    "def softmax(x):\n",
    "    # 여기에 작성\n",
    "    pass\n",
    "```\n",
    "\n",
    "---\n",
    "\n",
    "### 문제 2. 각 레이어별 순전파 연산 구현\n",
    "다음은 입력값 `x`에 대해 각 레이어에서 수행할 순전파(forward propagation) 연산입니다.  \n",
    "다층 퍼셉트론(MLP) 모델로, 총 3개의 레이어를 구성합니다.\n",
    "\n",
    "```python\n",
    "def forward(x, weights):\n",
    "    W1, b1 = weights['W1'], weights['b1']\n",
    "    W2, b2 = weights['W2'], weights['b2']\n",
    "    W3, b3 = weights['W3'], weights['b3']\n",
    "    \n",
    "    z1 = np.dot(x, W1) + b1\n",
    "    a1 = relu(z1)\n",
    "    # 이하 직접 구현해야…\n",
    "```\n",
    "\n",
    "---\n",
    "\n",
    "### 문제 3. 학습된 가중치 불러오기\n",
    "제공된 `weights.npz` 파일에서 가중치를 불러와 위의 `forward()` 함수에 활용하세요.\n",
    "\n",
    "```python\n",
    "weights = np.load('weights.npz')\n",
    "```\n",
    "\n",
    "---\n",
    "\n",
    "### 문제 4. 테스트 데이터 로딩 및 전처리\n",
    "MNIST 테스트 데이터셋을 불러오고, 각 이미지를 (784,) 벡터로 정규화하세요.  \n",
    "이미지 10장을 선택하여 예측 결과를 시각화하세요 (`matplotlib` 사용).\n",
    "\n",
    "```python\n",
    "# 사이킷런 표준 데이터셋 로딩 함수\n",
    "from sklearn.datasets import fetch_openml\n",
    "import numpy as np\n",
    "\n",
    "# MNIST 데이터셋 불러오기\n",
    "mnist = fetch_openml('mnist_784', as_frame=False)\n",
    "X, y = mnist.data, mnist.target\n",
    "y = y.astype(np.uint8)\n",
    "\n",
    "# 훈련/테스트 데이터 분리 및 정규화\n",
    "X_train, X_test = X[:60000] / 255.0, X[60000:] / 255.0\n",
    "y_train, y_test = y[:60000], y[60000:]\n",
    "```\n",
    "\n",
    "---\n",
    "\n",
    "### 문제 5. 예측 실행 및 정확도 계산\n",
    "100개의 샘플을 선택하여 예측을 수행하고,  \n",
    "실제 정답과 비교해 정확도를 계산하세요.\n",
    "\n",
    "---\n",
    "\n",
    "## 🎁 추가 보너스 문제\n",
    "\n",
    "### 문제 6. 은닉층 활성화 함수에 따라 정확도 비교\n",
    "- `relu`, `sigmoid` 중 하나로 교체하여 결과를 비교하세요.\n",
    "- 어떤 함수가 더 잘 작동했는지 이유를 적어보세요.\n",
    "\n",
    "---\n"
   ]
  },
  {
   "cell_type": "code",
   "execution_count": 2,
   "metadata": {},
   "outputs": [],
   "source": [
    "import numpy as np\n",
    "\n",
    "def sigmoid(x):\n",
    "    return 1 / (1 + np.exp(-x))\n",
    "\n",
    "def relu(x):\n",
    "    return np.maximum(0, x)\n",
    "\n",
    "def softmax(x):\n",
    "    e_x = np.exp(x - np.max(x))\n",
    "    return e_x / np.sum(e_x)"
   ]
  },
  {
   "cell_type": "code",
   "execution_count": 3,
   "metadata": {},
   "outputs": [],
   "source": [
    "def forward(x, weights):\n",
    "    W1, b1 = weights['W1'], weights['b1']\n",
    "    W2, b2 = weights['W2'], weights['b2']\n",
    "    W3, b3 = weights['W3'], weights['b3']\n",
    "\n",
    "    z1 = np.dot(x, W1) + b1\n",
    "    a1 = relu(z1)\n",
    "\n",
    "    z2 = np.dot(a1, W2) + b2\n",
    "    a2 = relu(z2)\n",
    "\n",
    "    z3 = np.dot(a2, W3) + b3\n",
    "    a3 = softmax(z3)\n",
    "\n",
    "    return a3"
   ]
  },
  {
   "cell_type": "code",
   "execution_count": 11,
   "metadata": {},
   "outputs": [
    {
     "data": {
      "text/plain": [
       "['W1', 'b1', 'W2', 'b2', 'W3', 'b3']"
      ]
     },
     "execution_count": 11,
     "metadata": {},
     "output_type": "execute_result"
    }
   ],
   "source": [
    "weights = np.load('weights.npz')\n",
    "list(weights.keys())\n"
   ]
  },
  {
   "cell_type": "code",
   "execution_count": 5,
   "metadata": {},
   "outputs": [],
   "source": [
    "# 사이킷런 표준 데이터셋 로딩 함수\n",
    "from sklearn.datasets import fetch_openml\n",
    "import numpy as np\n",
    "\n",
    "# MNIST 데이터셋 불러오기\n",
    "mnist = fetch_openml('mnist_784', as_frame=False)\n",
    "X, y = mnist.data, mnist.target\n",
    "y = y.astype(np.uint8)\n",
    "\n",
    "# 훈련/테스트 데이터 분리 및 정규화\n",
    "X_train, X_test = X[:60000] / 255.0, X[60000:] / 255.0\n",
    "y_train, y_test = y[:60000], y[60000:]"
   ]
  },
  {
   "cell_type": "code",
   "execution_count": 6,
   "metadata": {},
   "outputs": [
    {
     "data": {
      "image/png": "[encoded data removed]",
      "text/plain": [
       "<Figure size 640x480 with 10 Axes>"
      ]
     },
     "metadata": {},
     "output_type": "display_data"
    }
   ],
   "source": [
    "import matplotlib.pyplot as plt\n",
    "\n",
    "# 10개 테스트 데이터에 대해 예측\n",
    "for i in range(10):\n",
    "    output = forward(X_test[i], weights)\n",
    "    pred_label = np.argmax(output)\n",
    "\n",
    "    # 이미지 출력\n",
    "    plt.subplot(2, 5, i+1)\n",
    "    plt.imshow(X_test[i].reshape(28, 28), cmap='gray')\n",
    "    plt.title(f\"Pred: {pred_label}\")\n",
    "    plt.axis('off')\n",
    "\n",
    "plt.tight_layout()\n",
    "plt.show()\n"
   ]
  },
  {
   "cell_type": "code",
   "execution_count": 7,
   "metadata": {},
   "outputs": [
    {
     "name": "stdout",
     "output_type": "stream",
     "text": [
      "Accuracy: 98.00%\n"
     ]
    }
   ],
   "source": [
    "# 100개 테스트 데이터 샘플 선택\n",
    "X_sample = X_test[:100]\n",
    "y_sample = y_test[:100]\n",
    "\n",
    "predictions = []\n",
    "\n",
    "# 예측 및 정확도 계산\n",
    "correct = 0\n",
    "for i in range(100):\n",
    "    output = forward(X_sample[i], weights)\n",
    "    pred_label = np.argmax(output)\n",
    "\n",
    "    predictions.append(pred_label)\n",
    "    \n",
    "    if pred_label == y_sample[i]:\n",
    "        correct += 1\n",
    "\n",
    "accuracy = correct / 100\n",
    "print(f\"Accuracy: {accuracy * 100:.2f}%\")\n",
    "\n",
    "\n"
   ]
  },
  {
   "cell_type": "code",
   "execution_count": 8,
   "metadata": {},
   "outputs": [
    {
     "name": "stdout",
     "output_type": "stream",
     "text": [
      "❌ 8번째 샘플 - 실제: 5, 예측: 6\n"
     ]
    },
    {
     "data": {
      "image/png": "[encoded data removed]",
      "text/plain": [
       "<Figure size 640x480 with 1 Axes>"
      ]
     },
     "metadata": {},
     "output_type": "display_data"
    },
    {
     "name": "stdout",
     "output_type": "stream",
     "text": [
      "❌ 33번째 샘플 - 실제: 4, 예측: 6\n"
     ]
    },
    {
     "data": {
      "image/png": "[encoded data removed]",
      "text/plain": [
       "<Figure size 640x480 with 1 Axes>"
      ]
     },
     "metadata": {},
     "output_type": "display_data"
    }
   ],
   "source": [
    "for idx, (true, pred) in enumerate(zip(y_sample, predictions)):\n",
    "    if true != pred:\n",
    "        print(f\"❌ {idx}번째 샘플 - 실제: {true}, 예측: {pred}\")\n",
    "\n",
    "        # 이미지 출력\n",
    "        plt.imshow(X_sample[idx].reshape(28, 28), cmap='gray')\n",
    "        plt.title(f\"True: {true} / Pred: {pred}\")\n",
    "        plt.axis('off')\n",
    "        plt.show()"
   ]
  },
  {
   "cell_type": "code",
   "execution_count": 9,
   "metadata": {},
   "outputs": [],
   "source": [
    "def sigmoid(x):\n",
    "    return 1 / (1 + np.exp(-x))\n",
    "\n",
    "def forward_sigmoid(x, weights):\n",
    "    W1, b1 = weights['W1'], weights['b1']\n",
    "    W2, b2 = weights['W2'], weights['b2']\n",
    "    W3, b3 = weights['W3'], weights['b3']\n",
    "\n",
    "    z1 = np.dot(x, W1) + b1\n",
    "    a1 = sigmoid(z1)  # 여기만 relu → sigmoid\n",
    "\n",
    "    z2 = np.dot(a1, W2) + b2\n",
    "    a2 = sigmoid(z2)  # 여기도 relu → sigmoid\n",
    "\n",
    "    z3 = np.dot(a2, W3) + b3\n",
    "    a3 = softmax(z3)\n",
    "\n",
    "    return a3\n"
   ]
  },
  {
   "cell_type": "code",
   "execution_count": 10,
   "metadata": {},
   "outputs": [
    {
     "name": "stdout",
     "output_type": "stream",
     "text": [
      "ReLU 정확도: 98.00%\n",
      "Sigmoid 정확도: 17.00%\n"
     ]
    }
   ],
   "source": [
    "# ReLU 버전\n",
    "correct_relu = 0\n",
    "for i in range(100):\n",
    "    output = forward(X_sample[i], weights)\n",
    "    pred = np.argmax(output)\n",
    "    if pred == y_sample[i]:\n",
    "        correct_relu += 1\n",
    "accuracy_relu = correct_relu / 100\n",
    "print(f\"ReLU 정확도: {accuracy_relu * 100:.2f}%\")\n",
    "\n",
    "# Sigmoid 버전\n",
    "correct_sigmoid = 0\n",
    "for i in range(100):\n",
    "    output = forward_sigmoid(X_sample[i], weights)\n",
    "    pred = np.argmax(output)\n",
    "    if pred == y_sample[i]:\n",
    "        correct_sigmoid += 1\n",
    "accuracy_sigmoid = correct_sigmoid / 100\n",
    "print(f\"Sigmoid 정확도: {accuracy_sigmoid * 100:.2f}%\")\n"
   ]
  },
  {
   "cell_type": "markdown",
   "metadata": {},
   "source": [
    "### 결과 비교\n",
    "- ReLU 정확도: 98.00%\n",
    "- Sigmoid 정확도: 17.00%\n",
    "\n",
    "### 분석\n",
    "- Sigmoid는 깊은 네트워크에서 gradient vanishing 문제가 발생하여 학습이 어렵다.\n",
    "- ReLU는 기울기 소멸 문제가 적고, 큰 입력에 대해서도 선형적으로 신호를 전달할 수 있다.\n",
    "- 또한 본 실험에서 사용한 가중치는 ReLU 기반으로 학습된 것이기 때문에, Sigmoid로 교체하면 가중치와 활성화 함수의 mismatch로 인해 성능이 크게 저하되었다.\n",
    "\n",
    "### 결론\n",
    "- MNIST 손글씨 분류 문제에서는 ReLU가 Sigmoid에 비해 훨씬 우수한 성능을 보였다.\n"
   ]
  }
 ],
 "metadata": {
  "kernelspec": {
   "display_name": "base",
   "language": "python",
   "name": "python3"
  },
  "language_info": {
   "codemirror_mode": {
    "name": "ipython",
    "version": 3
   },
   "file_extension": ".py",
   "mimetype": "text/x-python",
   "name": "python",
   "nbconvert_exporter": "python",
   "pygments_lexer": "ipython3",
   "version": "3.12.7"
  }
 },
 "nbformat": 4,
 "nbformat_minor": 2
}
