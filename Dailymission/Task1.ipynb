{
 "cells": [
  {
   "cell_type": "markdown",
   "metadata": {},
   "source": [
    "수업 중 주어진 Task\n",
    "\n",
    "주어진 코드:\n",
    "\n",
    "name = input(\"이름을 입력하세요: \")\n",
    "\n",
    "age = int(input(\"나이를 입력하세요: \"))\n",
    "\n",
    "height = float(input(\"키를 입력하세요: \"))\n",
    "\n",
    "출력 예시:\n",
    "\n",
    "안녕하세요, 홍길동님!\n",
    "\n",
    "나이: 25\n",
    "\n",
    "키: 175.50 cm"
   ]
  },
  {
   "cell_type": "code",
   "execution_count": 1,
   "metadata": {},
   "outputs": [
    {
     "ename": "ValueError",
     "evalue": "invalid literal for int() with base 10: 'ㅇ'",
     "output_type": "error",
     "traceback": [
      "\u001b[31m---------------------------------------------------------------------------\u001b[39m",
      "\u001b[31mValueError\u001b[39m                                Traceback (most recent call last)",
      "\u001b[36mCell\u001b[39m\u001b[36m \u001b[39m\u001b[32mIn[1]\u001b[39m\u001b[32m, line 2\u001b[39m\n\u001b[32m      1\u001b[39m name = \u001b[38;5;28minput\u001b[39m(\u001b[33m'\u001b[39m\u001b[33m이름을 입력하세요: \u001b[39m\u001b[33m'\u001b[39m)\n\u001b[32m----> \u001b[39m\u001b[32m2\u001b[39m age = \u001b[38;5;28;43mint\u001b[39;49m\u001b[43m(\u001b[49m\u001b[38;5;28;43minput\u001b[39;49m\u001b[43m(\u001b[49m\u001b[33;43m'\u001b[39;49m\u001b[33;43m나이를 이렵하세요: \u001b[39;49m\u001b[33;43m'\u001b[39;49m\u001b[43m)\u001b[49m\u001b[43m)\u001b[49m\n\u001b[32m      3\u001b[39m height = \u001b[38;5;28mfloat\u001b[39m(\u001b[38;5;28minput\u001b[39m(\u001b[33m'\u001b[39m\u001b[33m키를 입력하세요: \u001b[39m\u001b[33m'\u001b[39m))\n\u001b[32m      5\u001b[39m \u001b[38;5;28mprint\u001b[39m(\u001b[33m'\u001b[39m\u001b[33m안녕하세요, \u001b[39m\u001b[38;5;132;01m%s\u001b[39;00m\u001b[33m님!\u001b[39m\u001b[38;5;130;01m\\n\u001b[39;00m\u001b[33m'\u001b[39m %(name))\n",
      "\u001b[31mValueError\u001b[39m: invalid literal for int() with base 10: 'ㅇ'"
     ]
    }
   ],
   "source": [
    "name = input('이름을 입력하세요: ')\n",
    "age = int(input('나이를 이렵하세요: '))\n",
    "height = float(input('키를 입력하세요: '))\n",
    "\n",
    "print('안녕하세요, %s님!\\n' %(name))\n",
    "print('나이: %d \\n' %(age))\n",
    "print('키: %.2fcm' %(height))"
   ]
  }
 ],
 "metadata": {
  "kernelspec": {
   "display_name": "Python 3",
   "language": "python",
   "name": "python3"
  },
  "language_info": {
   "codemirror_mode": {
    "name": "ipython",
    "version": 3
   },
   "file_extension": ".py",
   "mimetype": "text/x-python",
   "name": "python",
   "nbconvert_exporter": "python",
   "pygments_lexer": "ipython3",
   "version": "3.13.3"
  }
 },
 "nbformat": 4,
 "nbformat_minor": 2
}
