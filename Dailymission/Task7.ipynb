{
 "cells": [
  {
   "cell_type": "markdown",
   "metadata": {},
   "source": [
    "음식 주문 시스템 문제입니다.\n",
    "\n",
    "사용자가 원하는 음식을 선택하고 총 가격을 계산하는 프로그램을 작성하세요.\n",
    "\n",
    "아래와 같은 메뉴판이 있다고 가정합니다.\n",
    "\n",
    "사용자가 주문할 음식을 입력하면 주문 내역과 총 가격을 기능을 태스크 별 요구사항에 맞게 구현해보세요."
   ]
  },
  {
   "cell_type": "code",
   "execution_count": null,
   "metadata": {},
   "outputs": [
    {
     "name": "stdout",
     "output_type": "stream",
     "text": [
      "1. Pizza - 12000원\n",
      "2. Burger - 8000원\n",
      "3. Pasta - 15000원\n",
      "4. Sushi - 20000원\n",
      "5. Salad - 6000원\n",
      "주문한 메뉴는 ['Pizza', 'Sushi']\n",
      "총 가격은 32000\n"
     ]
    }
   ],
   "source": [
    "menu = [(\"Pizza\", 12000),\n",
    "        (\"Burger\", 8000),\n",
    "        (\"Pasta\", 15000),\n",
    "        (\"Sushi\", 20000),\n",
    "        (\"Salad\", 6000) ]\n",
    "idx = 0\n",
    "for i in menu:\n",
    "    print(f\"{idx+1}. {menu[idx][0]} - {menu[idx][1]}원\")\n",
    "    idx +=1\n",
    "\n",
    "orders = input('주문할 음식을 입력하세요 (쉼표로 구분) : ')\n",
    "#print(orders)\n",
    "orders = orders.replace(\" \",\"\")\n",
    "orders = orders.split(\",\")\n",
    "#print(orders)\n",
    "total_price = 0\n",
    "i = 0\n",
    "idx = 0\n",
    "\n",
    "final_order = []\n",
    "\n",
    "for order in orders:\n",
    "    for j in menu:\n",
    "        current_menu = menu[idx][0]\n",
    "        #print(f\"{current_menu}\")\n",
    "        #print(f\"{order}\")\n",
    "        if(order == current_menu):\n",
    "            #print(\"찾음\")\n",
    "            final_order.append(menu[idx][0])\n",
    "            total_price = total_price + menu[idx][1]\n",
    "        #else:\n",
    "            #print(\"못찾음\")\n",
    "        idx+=1\n",
    "    idx = 0\n",
    "    i += 1\n",
    "print(f\"주문한 메뉴는 {final_order}\")\n",
    "print(f\"총 가격은 {total_price}\")"
   ]
  },
  {
   "cell_type": "code",
   "execution_count": null,
   "metadata": {},
   "outputs": [],
   "source": []
  },
  {
   "cell_type": "code",
   "execution_count": null,
   "metadata": {},
   "outputs": [],
   "source": []
  },
  {
   "cell_type": "code",
   "execution_count": null,
   "metadata": {},
   "outputs": [],
   "source": []
  }
 ],
 "metadata": {
  "kernelspec": {
   "display_name": "base",
   "language": "python",
   "name": "python3"
  },
  "language_info": {
   "codemirror_mode": {
    "name": "ipython",
    "version": 3
   },
   "file_extension": ".py",
   "mimetype": "text/x-python",
   "name": "python",
   "nbconvert_exporter": "python",
   "pygments_lexer": "ipython3",
   "version": "3.12.7"
  }
 },
 "nbformat": 4,
 "nbformat_minor": 2
}
