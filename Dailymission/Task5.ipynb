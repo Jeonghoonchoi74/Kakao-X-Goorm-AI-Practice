{
 "cells": [
  {
   "cell_type": "code",
   "execution_count": null,
   "metadata": {},
   "outputs": [],
   "source": [
    "scores_data = '''\n",
    "학생1: 홍길동, 성적: 85\n",
    "학생2: 김철수, 성적: 90\n",
    "학생3: 이영희, 성적: 78\n",
    "학생4: 박민지, 성적: 92\n",
    "학생5: 최준호, 성적: 88\n",
    "'''\n",
    "score = scores_data.split('\\n') #분리\n",
    "total_score = 0\n",
    "student_list = []\n",
    "for i in score:\n",
    "    if i:\n",
    "        student_list.append(i.split(','))\n",
    "        \n",
    "print(student_list)        \n",
    "for i in student_list:\n",
    "    print(i)\n",
    "    total_score += int(i[1].split(':')[1])\n",
    "print(\"총점: \", total_score)\n",
    "print(\"평균: \", total_score/len(student_list))\n"
   ]
  }
 ],
 "metadata": {
  "language_info": {
   "name": "python"
  }
 },
 "nbformat": 4,
 "nbformat_minor": 2
}
