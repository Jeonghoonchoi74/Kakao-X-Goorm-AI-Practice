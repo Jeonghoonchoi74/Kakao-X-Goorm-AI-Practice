{
 "cells": [
  {
   "cell_type": "code",
   "execution_count": 15,
   "metadata": {},
   "outputs": [
    {
     "name": "stdout",
     "output_type": "stream",
     "text": [
      "당신의 나이는? : \n",
      "당신은 올해 성년이 되셨군요!\n",
      "당신은 19세 이상입니다.\n",
      "당신은 20대입니다.\n"
     ]
    }
   ],
   "source": [
    "print ('당신의 나이는? : ')\n",
    "age = int(input())\n",
    "\n",
    "if age == 19:\n",
    "    print (\"당신은 올해 성년이 되셨군요!\")\n",
    "if age != 19:\n",
    "    print(\"당신은 19세가 아닙니다.\")\n",
    "if age >= 19:\n",
    "    print(\"당신은 19세 이상입니다.\")\n",
    "if age > 19:\n",
    "    print(\"당신은 20세 이상입니다.\")\n",
    "if age > 20 & age < 30:\n",
    "    print(\"당신은 20대입니다.\")\n",
    "\n",
    " "
   ]
  },
  {
   "cell_type": "code",
   "execution_count": 18,
   "metadata": {},
   "outputs": [
    {
     "name": "stdout",
     "output_type": "stream",
     "text": [
      "소 또는 돼지 입니다.\n",
      "돼지가 분명합니다.\n"
     ]
    }
   ],
   "source": [
    "#연습문제 2\n",
    "animals =['닭','소','돼지']\n",
    "\n",
    "legs = int(input('다리가 몇 개입니까?: '))\n",
    "childs = bool(input(\"새끼가 2마리 이상입니까? (True/False): \"))\n",
    "foods = input(\"초식입니까, 잡식입니까?(초식/잡식): \")\n",
    "\n",
    "if(legs == 2):\n",
    "    print(\"닭\")\n",
    "elif(legs == 4 and childs):\n",
    "    print(\"소 또는 돼지 입니다.\")\n",
    "    if(foods == \"초식\"):\n",
    "        print(\"소가 분명합니다.\")\n",
    "    elif(foods == \"잡식\"):\n",
    "        print(\"돼지가 분명합니다.\")\n",
    "else:\n",
    "    print(\"입력 값 오류\")"
   ]
  },
  {
   "cell_type": "code",
   "execution_count": 21,
   "metadata": {},
   "outputs": [
    {
     "name": "stdout",
     "output_type": "stream",
     "text": [
      "닭, 있습니다!\n"
     ]
    }
   ],
   "source": [
    "#연습문제 3\n",
    "animals = ['닭','소','돼지']\n",
    "animal = input(\"찾는 가축을 입력하세요 : \")\n",
    "\n",
    "if(animal in animals):\n",
    "    print(\"{}, 있습니다!\".format(animal))\n",
    "else:\n",
    "    print(\"{}.. 없습니다...\".format(animal))\n"
   ]
  },
  {
   "cell_type": "code",
   "execution_count": 17,
   "metadata": {},
   "outputs": [
    {
     "name": "stdout",
     "output_type": "stream",
     "text": [
      "[['학생1: 홍길동', ' 성적: 85'], ['학생2: 김철수', ' 성적: 90'], ['학생3: 이영희', ' 성적: 78'], ['학생4: 박민지', ' 성적: 92'], ['학생5: 최준호', ' 성적: 88']]\n",
      "['학생1: 홍길동', ' 성적: 85']\n",
      "['학생2: 김철수', ' 성적: 90']\n",
      "['학생3: 이영희', ' 성적: 78']\n",
      "['학생4: 박민지', ' 성적: 92']\n",
      "['학생5: 최준호', ' 성적: 88']\n",
      "총점:  433\n",
      "평균:  86.6\n"
     ]
    }
   ],
   "source": [
    "scores_data = '''\n",
    "학생1: 홍길동, 성적: 85\n",
    "학생2: 김철수, 성적: 90\n",
    "학생3: 이영희, 성적: 78\n",
    "학생4: 박민지, 성적: 92\n",
    "학생5: 최준호, 성적: 88\n",
    "'''\n",
    "score = scores_data.split('\\n') #분리\n",
    "total_score = 0\n",
    "student_list = []\n",
    "for i in score:\n",
    "    if i:\n",
    "        student_list.append(i.split(','))\n",
    "        \n",
    "print(student_list)        \n",
    "for i in student_list:\n",
    "    print(i)\n",
    "    total_score += int(i[1].split(':')[1])\n",
    "print(\"총점: \", total_score)\n",
    "print(\"평균: \", total_score/len(student_list))\n"
   ]
  }
 ],
 "metadata": {
  "kernelspec": {
   "display_name": "base",
   "language": "python",
   "name": "python3"
  },
  "language_info": {
   "codemirror_mode": {
    "name": "ipython",
    "version": 3
   },
   "file_extension": ".py",
   "mimetype": "text/x-python",
   "name": "python",
   "nbconvert_exporter": "python",
   "pygments_lexer": "ipython3",
   "version": "3.12.7"
  }
 },
 "nbformat": 4,
 "nbformat_minor": 2
}
