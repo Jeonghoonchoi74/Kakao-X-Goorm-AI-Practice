{
 "cells": [
  {
   "cell_type": "markdown",
   "metadata": {},
   "source": [
    "# 초급 머신러닝 미션: \"스포티파이 음악 클러스터링\"\n",
    "\n",
    "## 🎯 목표\n",
    "스포티파이의 음악 인기도(popularity)와 음악 특성 데이터를 분석하여, \"음악 패턴에 따른 군집화\"를 수행합니다.\n",
    "\n",
    "---\n",
    "\n",
    "## 📂 사용 데이터셋\n",
    "**Kaggle - Spotify Tracks DB Data**  \n",
    "👉 https://www.kaggle.com/datasets/zaheenhamidani/ultimate-spotify-tracks-db\n",
    "\n",
    "> 이 데이터셋은 수많은 트랙들의 특성과 사용자의 스트리밍 기록을 포함합니다.\n",
    "\n",
    "---\n",
    "\n",
    "## 📌 실습 과제 구성\n",
    "\n",
    "### Part 1. 데이터 전처리 및 탐색\n",
    "- 불필요한 컬럼 제거 및 결측치 처리\n",
    "- 수치형/범주형 데이터 분리 및 인코딩\n",
    "- 주요 feature들의 분포 시각화\n",
    "\n",
    "\n",
    "### Part 2. 음악 클러스터링(Clustering)\n",
    "- 목표: 음악 패턴에 따라 그룹화\n",
    "- 알고리즘\n",
    "  - `KMeans`\n",
    "  - `DBSCAN` \n",
    "- 시각화: PCA 또는 t-SNE를 활용한 2D 클러스터링 결과\n",
    "\n",
    "\n",
    "### Part 3. 분석 및 해석\n",
    "- 군집별 주요 특징 비교 (`mean`, `mode` 등으로 요약)\n",
    "- 이탈률 높은 클러스터 존재 여부 확인\n",
    "\n",
    "\n"
   ]
  },
  {
   "cell_type": "markdown",
   "id": "faaea3d0",
   "metadata": {},
   "source": []
  }
 ],
 "metadata": {
  "kernelspec": {
   "display_name": "Python 3",
   "language": "python",
   "name": "python3"
  },
  "language_info": {
   "name": "python",
   "version": "3.8.10"
  }
 },
 "nbformat": 4,
 "nbformat_minor": 5
}
