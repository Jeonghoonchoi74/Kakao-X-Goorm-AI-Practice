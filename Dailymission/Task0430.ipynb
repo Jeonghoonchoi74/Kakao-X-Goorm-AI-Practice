{
 "cells": [
  {
   "cell_type": "markdown",
   "id": "dde9e605",
   "metadata": {},
   "source": [
    "# 🚀 다변수 입력 및 3D 착륙 위치 예측 미션\n",
    "\n",
    "## \"AI 드론의 고급 착륙 예측: 3D 좌표 학습하기\""
   ]
  },
  {
   "cell_type": "markdown",
   "id": "a87ce40f",
   "metadata": {},
   "source": [
    "### 📜 시나리오\n",
    "\n",
    "이제는 드론이 3차원 공간에서 착륙해야 합니다.  \n",
    "입력은 `(위도, 경도, 고도)`이고, 드론은 이 정보를 바탕으로 `(목표 X, Y, Z)` 좌표에 정확히 착륙해야 합니다.\n",
    "\n",
    "단순한 회귀가 아닌, **3차원 벡터 예측 문제**로 확장됩니다.\n"
   ]
  },
  {
   "cell_type": "markdown",
   "id": "ec8a0b2e",
   "metadata": {},
   "source": [
    "### 🧪 실습 목표\n",
    "\n",
    "- 다변수 입력 (3D 위치: 위도, 경도, 고도)\n",
    "- 다차원 출력 (착륙 좌표: X, Y, Z)\n",
    "- 신경망 순전파, 역전파 구현\n",
    "- MSE 손실과 학습 시각화\n"
   ]
  },
  {
   "cell_type": "markdown",
   "id": "fd47f903",
   "metadata": {},
   "source": [
    "### 📂 데이터 구성"
   ]
  },
  {
   "cell_type": "code",
   "execution_count": 23,
   "id": "38881f1c",
   "metadata": {},
   "outputs": [],
   "source": [
    "import numpy as np\n",
    "import matplotlib.pyplot as plt\n",
    "# 한글 깨짐 방지 \n",
    "from matplotlib import font_manager, rc\n",
    "font_path = \"C:/Windows/Fonts/malgun.ttf\"\n",
    "font = font_manager.FontProperties(fname=font_path, size=12)\n",
    "rc('font', family=font.get_name())\n",
    "\n",
    "# 입력: 위도, 경도, 고도 (예시 데이터 4개)\n",
    "X = np.array([\n",
    "    [10.0, 20.0, 100.0],\n",
    "    [15.0, 25.0, 120.0],\n",
    "    [12.0, 22.0, 110.0],\n",
    "    [14.0, 24.0, 115.0],\n",
    "])\n",
    "\n",
    "# 출력: 착륙해야 할 3D 위치 (X, Y, Z)\n",
    "y = np.array([\n",
    "    [5.0,  3.0,  0.5],\n",
    "    [6.5,  4.0,  0.8],\n",
    "    [5.5,  3.5,  0.6],\n",
    "    [6.2,  3.8,  0.7],\n",
    "])\n",
    "\n",
    "# 초기 가중치 및 편향 설정\n",
    "np.random.seed(1)\n",
    "W1 = np.random.randn(3, 6)  # 입력 3 → 은닉 6\n",
    "b1 = np.zeros((1, 6))\n",
    "W2 = np.random.randn(6, 3)  # 은닉 6 → 출력 3\n",
    "b2 = np.zeros((1, 3))"
   ]
  },
  {
   "cell_type": "markdown",
   "id": "4351e2a3",
   "metadata": {},
   "source": [
    "### 🔧 ReLU 활성화 함수"
   ]
  },
  {
   "cell_type": "code",
   "execution_count": 24,
   "id": "075d121c",
   "metadata": {},
   "outputs": [],
   "source": [
    "def relu(x):\n",
    "    # ReLU 활성화 함수\n",
    "    return np.maximum(0, x)\n",
    "\n",
    "def relu_grad(x):\n",
    "    # ReLU의 미분\n",
    "    grad = np.zeros_like(x)\n",
    "    grad[x > 0] = 1\n",
    "    return grad"
   ]
  },
  {
   "cell_type": "markdown",
   "id": "91b15df7",
   "metadata": {},
   "source": [
    "### 🔍 순전파"
   ]
  },
  {
   "cell_type": "code",
   "execution_count": 25,
   "id": "0dab0eeb",
   "metadata": {},
   "outputs": [],
   "source": [
    "def forward(X):\n",
    "    global Z1, A1, Z2, y_pred\n",
    "    Z1 = X @ W1 + b1        # 은닉층 선형 조합\n",
    "    A1 = relu(Z1)           # 은닉층 활성화           \n",
    "    Z2 = A1 @ W2 + b2       # 출력층 선형 조합\n",
    "    y_pred = Z2             # 출력층 활성화 없음 (선형 출력)\n",
    "    return y_pred\n",
    "\n"
   ]
  },
  {
   "cell_type": "markdown",
   "id": "eea96c19",
   "metadata": {},
   "source": [
    "### 🔄 역전파 및 경사하강법"
   ]
  },
  {
   "cell_type": "code",
   "execution_count": 26,
   "id": "fa39cc48",
   "metadata": {},
   "outputs": [],
   "source": [
    "def mse_loss(y_pred, y_true):\n",
    "     return np.mean(np.square(y_pred - y_true))\n",
    "\n",
    "def backward(X, y_true, lr=0.001):\n",
    "     global W1, b1, W2, b2\n",
    "     m = X.shape[0]\n",
    "\n",
    "     dZ2 = (y_pred - y_true) / m\n",
    "     dW2 = A1.T @ dZ2\n",
    "     db2 = np.sum(dZ2, axis=0, keepdims=True)\n",
    "     dA1 = dZ2 @ W2.T\n",
    "     dZ1 = dA1 * relu_grad(Z1)\n",
    "     dW1 = X.T @ dZ1\n",
    "     db1 = np.sum(dZ1, axis=0, keepdims=True)\n",
    "     W1 -= lr * dW1\n",
    "     b1 -= lr * db1\n",
    "     W2 -= lr * dW2\n",
    "     b2 -= lr * db2\n",
    "     return dW1, db1, dW2, db2\n",
    "\n",
    "    "
   ]
  },
  {
   "cell_type": "markdown",
   "id": "41a501fb",
   "metadata": {},
   "source": [
    "### 🧮 학습 실행"
   ]
  },
  {
   "cell_type": "code",
   "execution_count": 27,
   "id": "017e9895",
   "metadata": {},
   "outputs": [],
   "source": [
    "loss_history = []\n",
    "\n",
    "for epoch in range(500):\n",
    "    forward(X)\n",
    "\n",
    "    loss = mse_loss(y_pred, y)\n",
    "    loss_history.append(loss)\n",
    "    \n",
    "    backward(X, y, lr=0.01)\n",
    "\n"
   ]
  },
  {
   "cell_type": "markdown",
   "id": "1a1948ab",
   "metadata": {},
   "source": [
    "### 📊 손실 시각화"
   ]
  },
  {
   "cell_type": "code",
   "execution_count": 28,
   "id": "009ab16c",
   "metadata": {},
   "outputs": [
    {
     "data": {
      "image/png": "[encoded data removed]",
      "text/plain": [
       "<Figure size 1000x500 with 1 Axes>"
      ]
     },
     "metadata": {},
     "output_type": "display_data"
    }
   ],
   "source": [
    "plt.figure(figsize=(10, 5))\n",
    "plt.plot(loss_history, label='Loss', color='blue')\n",
    "\n",
    "# 축 설정\n",
    "plt.ylim(0, 10)\n",
    "plt.xlim(0, 500)\n",
    "plt.xticks(np.arange(0, 501, 50))\n",
    "plt.yticks(np.arange(0, 11, 1))\n",
    "\n",
    "# 레이블 및 스타일\n",
    "plt.xlabel(\"Epoch\")\n",
    "plt.ylabel(\"Loss (MSE)\")\n",
    "plt.title(\"3D 착륙 예측 신경망 학습 과정\")\n",
    "plt.legend()\n",
    "plt.grid(True)\n",
    "plt.show()"
   ]
  },
  {
   "cell_type": "markdown",
   "id": "274924f1",
   "metadata": {},
   "source": [
    "### 🎁 보너스 미션\n",
    "\n",
    "- `tanh` 또는 `sigmoid` 활성화 함수로 변경해 보세요.\n",
    "- 드론의 현재 속도, 풍속, 배터리 잔량 등을 추가 입력 특성으로 확장해보세요.\n"
   ]
  },
  {
   "cell_type": "code",
   "execution_count": null,
   "id": "3d6ac32c",
   "metadata": {},
   "outputs": [],
   "source": [
    "def sigmoid(x):\n",
    "    return 1 / (1 + np.exp(-x))\n",
    "\n",
    "def tanh(x):\n",
    "    return np.tanh(x)"
   ]
  },
  {
   "cell_type": "code",
   "execution_count": null,
   "id": "7edbca6f",
   "metadata": {},
   "outputs": [],
   "source": []
  }
 ],
 "metadata": {
  "kernelspec": {
   "display_name": "base",
   "language": "python",
   "name": "python3"
  },
  "language_info": {
   "codemirror_mode": {
    "name": "ipython",
    "version": 3
   },
   "file_extension": ".py",
   "mimetype": "text/x-python",
   "name": "python",
   "nbconvert_exporter": "python",
   "pygments_lexer": "ipython3",
   "version": "3.12.7"
  }
 },
 "nbformat": 4,
 "nbformat_minor": 5
}
