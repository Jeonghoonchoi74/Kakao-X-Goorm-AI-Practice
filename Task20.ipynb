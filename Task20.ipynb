{
 "cells": [
  {
   "cell_type": "markdown",
   "metadata": {},
   "source": [
    "# 나무 위에서의 구름 이동 문제\n",
    "\n",
    "## 문제 설명\n",
    "\n",
    "구름이는 세계에서 제일 유명한 나무꾼이다. 그래서 여러 목수한테 의뢰를 많이 받는다. 이번에도 의뢰를 받게 되어 벌목을 하러 어느 한 숲에 도착했다.\n",
    "\n",
    "도착한 숲에는 원형 모양으로 나무 N그루가 자리잡고 있었다. 즉 1번째 나무 오른쪽엔 2번째 나무, 2번째 나무 오른쪽엔 3번째 나무, ..., N번째 나무 오른쪽엔 1번째 나무가 있다. 이제 구름이는 벌목을 할 것인데, 높이가 M 이상인 나무만 벌목을 할 수 있다는 규칙을 꼭 지켜야 한다. 벌목 과정은 다음과 같으며, 구름이는 아래와 같은 벌목 과정을 총 Q회 반복할 것이다. 구름이의 현재 위치는 x번째 나무가 있는 곳이다.\n",
    "\n",
    "1. x번째 나무의 높이가 M 이상이면 벌목을 한다. 벌목을 하게 되면 구름이가 소지한 목재량은 x번째 나무의 높이만큼 증가하며, x번째 나무의 높이는 0이 된다.\n",
    "2. 구름이는 다음과 같은 방법 중 하나를 선택해 움직일 것이다.\n",
    "   - L: x - 1번째 나무가 있는 곳으로 이동한다. x = 1이라면 N번째 나무가 있는 곳으로 이동한다.\n",
    "   - R: x + 1번째 나무가 있는 곳으로 이동한다. x = N이라면 1번째 나무가 있는 곳으로 이동한다.\n",
    "   - S: x번째 나무가 있는 곳에 머무른다.\n",
    "3. 모든 나무들은 높이 1씩 자란다. 높이 0인 나무도 빠짐없이 나와있기 때문에 마찬가지로 높이 1씩 자란다.\n",
    "\n",
    "구름이가 벌목 과정을 Q회 반복한 뒤, 구름이가 소지한 목재량을 알아보자.\n",
    "\n",
    "## 예제 설명\n",
    "\n",
    "첫 번째 예제에서 나무들의 초기 높이는[2,0,1,5]이며, 구름이는 맨 처음에 1번 나무에 있다.\n",
    "\n",
    "1. 첫 번째 벌목 과정\n",
    "   - 1번 나무의 높이는 2이다. 이는 M 미만이므로 벌목을 할 수 없다.\n",
    "   - 구름이가 움직일 방법은 S이다. 그러므로 1번 나무에 머무른다.\n",
    "   - 모든 나무들의 높이가 1씩 자란다.\n",
    "2. 두 번째 벌목 과정\n",
    "   - 1번 나무의 높이는 3이다. 이는 M 이상이므로 벌목을 한다. 1번 나무의 높이는 0이 되며, 구름이가 소지한 목재량은 3이 된다.\n",
    "   - 구름이가 움직일 방법은 R이다. 그러므로 2번 나무로 이동한다.\n",
    "   - 모든 나무들의 높이가 1씩 자란다.\n",
    "3. 세 번째 벌목 과정\n",
    "   - 2번 나무의 높이는 2이다. 이는 M 미만이므로 벌목을 할 수 없다.\n",
    "   - 구름이가 움직일 방법은 R이다. 그러므로 3번 나무로 이동한다.\n",
    "   - 모든 나무들의 높이가 1씩 자란다.\n",
    "4. 네 번째 벌목 과정\n",
    "   - 3번 나무의 높이는 4이다. 이는 M 이상이므로 벌목을 한다. 3번 나무의 높이는 0이 되며, 구름이가 소지한 목재량은 7이 된다.\n",
    "   - 구름이가 움직일 방법은 L이다. 그러므로 2번 나무로 이동한다.\n",
    "   - 모든 나무들의 높이가 1씩 자란다.\n",
    "5. 다섯 번째 벌목 과정\n",
    "   - 2번 나무의 높이는 4이다. 이는 M 이상이므로 벌목을 한다. 2번 나무의 높이는 0이 되며, 구름이가 소지한 목재량은 11이 된다.\n",
    "   - 구름이가 움직일 방법은 L이다. 그러므로 1번 나무로 이동한다.\n",
    "   - 모든 나무들의 높이가 1씩 자란다.\n",
    "\n",
    "## 입력\n",
    "\n",
    "첫째 줄에 나무의 그루 수 N, 벌목 높이 제한 M, 맨 처음에 구름이가 위치한 나무의 순서 x_s가 공백을 두고 주어진다.\n",
    "둘째 줄에는 H_1, H_2, ..., H_N이 공백을 두고 주어진다. H_i는 i번째 나무의 초기 높이이다.\n",
    "셋째 줄에는 벌목 과정을 반복할 횟수 Q가 주어진다.\n",
    "넷째 줄에는 D_1, D_2, ..., D_Q가 공백을 두고 주어진다. D_i는 i번째 벌목 과정의 2번 순서에서 움직일 방법을 의미한다.\n",
    "\n",
    "- 2 ≤ N ≤ 100,000\n",
    "- 0 ≤ M ≤ 100,000\n",
    "- 1 ≤ x_s < N\n",
    "- 0 ≤ H_i ≤ 100,000\n",
    "- 1 ≤ Q ≤ 100,000\n",
    "- 입력으로 주어지는 모든 수는 정수이다.\n",
    "- D_i는 L, R, S 중 하나이다.\n"
   ]
  },
  {
   "cell_type": "code",
   "execution_count": 11,
   "metadata": {},
   "outputs": [
    {
     "name": "stdout",
     "output_type": "stream",
     "text": [
      "11\n"
     ]
    }
   ],
   "source": [
    "# 입력 받기\n",
    "N, M, current_position = map(int, input().split())\n",
    "tree_heights = list(map(int, input().split()))\n",
    "Q = int(input())\n",
    "actions = input().split()\n",
    "\n",
    "# 벌목한 목재량\n",
    "collection = 0\n",
    "\n",
    "# 위치 조정 (0-based index로 변환)\n",
    "current_position -= 1\n",
    "\n",
    "# 벌목 과정 수행\n",
    "for i in range(Q):\n",
    "    # 현재 위치에서 벌목 가능한지 확인\n",
    "    if tree_heights[current_position] >= M:\n",
    "        collection += tree_heights[current_position]\n",
    "        tree_heights[current_position] = 0\n",
    "\n",
    "    # 이동 처리\n",
    "    if actions[i] == 'L':\n",
    "        current_position = (current_position - 1) % N  # 왼쪽 이동\n",
    "    elif actions[i] == 'R':\n",
    "        current_position = (current_position + 1) % N  # 오른쪽 이동\n",
    "\n",
    "    # 모든 나무 높이 증가\n",
    "    for j in range(N):\n",
    "        tree_heights[j] += 1\n",
    "\n",
    "# 최종 목재량 출력\n",
    "print(collection)\n"
   ]
  },
  {
   "cell_type": "code",
   "execution_count": 18,
   "metadata": {},
   "outputs": [
    {
     "name": "stdout",
     "output_type": "stream",
     "text": [
      "16\n"
     ]
    }
   ],
   "source": [
    "a,b = input().split()\n",
    "result = max(eval(a), eval(b))\n",
    "print (result)"
   ]
  },
  {
   "cell_type": "code",
   "execution_count": null,
   "metadata": {},
   "outputs": [],
   "source": []
  }
 ],
 "metadata": {
  "kernelspec": {
   "display_name": "base",
   "language": "python",
   "name": "python3"
  },
  "language_info": {
   "codemirror_mode": {
    "name": "ipython",
    "version": 3
   },
   "file_extension": ".py",
   "mimetype": "text/x-python",
   "name": "python",
   "nbconvert_exporter": "python",
   "pygments_lexer": "ipython3",
   "version": "3.12.7"
  }
 },
 "nbformat": 4,
 "nbformat_minor": 2
}
