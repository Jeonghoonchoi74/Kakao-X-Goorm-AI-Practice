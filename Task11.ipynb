{
 "cells": [
  {
   "cell_type": "markdown",
   "metadata": {},
   "source": [
    "스마트 농장 데이터 분석\n",
    "설명:\n",
    "3개의 센서에서 수집된 **온도, 습도, 토양 수분 데이터(30일간)**가 주어진다.\n",
    "모든 값이 25 이상인 날을 찾아 출력하세요.\n",
    "\n",
    "입력 예시\n",
    "import numpy as np\n",
    "\n",
    "temperature = np.random.randint(15, 35, (30,))\n",
    "humidity = np.random.randint(10, 50, (30,))\n",
    "soil_moisture = np.random.randint(5, 40, (30,))\n",
    "\n",
    "출력 예시\n",
    "[4, 8, 15, 22, 25, 28]\n",
    "\n",
    "힌트:\n",
    "np.where((temperature >= 25) & (humidity >= 25) & (soil_moisture >= 25))\n",
    "\n",
    "힌트와. 강의 시간에 다루지 않았던 numpy 패키지의 다양한 메소드 함수를 찾아서 사용법을 파악해서 풀어 보는 문제입니다."
   ]
  },
  {
   "cell_type": "code",
   "execution_count": 12,
   "metadata": {},
   "outputs": [
    {
     "name": "stdout",
     "output_type": "stream",
     "text": [
      "[2, 10, 11, 17]\n"
     ]
    }
   ],
   "source": [
    "import numpy as np\n",
    "\n",
    "# 30일간의 온도, 습도, 토양 수분 데이터 생성\n",
    "temperature = np.random.randint(15, 35, (30,))\n",
    "humidity = np.random.randint(10, 50, (30,))\n",
    "soil_moisture = np.random.randint(5, 40, (30,))\n",
    "\n",
    "# 모든 값이 25 이상인 날 찾기\n",
    "condition = (temperature >= 25) & (humidity >= 25) & (soil_moisture >= 25)\n",
    "result = np.where(condition)[0] + 1  # 1을 더해 1일부터 시작하도록 함\n",
    "\n",
    "# 결과 출력\n",
    "print(result.tolist())\n"
   ]
  },
  {
   "cell_type": "code",
   "execution_count": null,
   "metadata": {},
   "outputs": [],
   "source": []
  },
  {
   "cell_type": "code",
   "execution_count": null,
   "metadata": {},
   "outputs": [],
   "source": []
  }
 ],
 "metadata": {
  "kernelspec": {
   "display_name": "base",
   "language": "python",
   "name": "python3"
  },
  "language_info": {
   "codemirror_mode": {
    "name": "ipython",
    "version": 3
   },
   "file_extension": ".py",
   "mimetype": "text/x-python",
   "name": "python",
   "nbconvert_exporter": "python",
   "pygments_lexer": "ipython3",
   "version": "3.12.7"
  }
 },
 "nbformat": 4,
 "nbformat_minor": 2
}
