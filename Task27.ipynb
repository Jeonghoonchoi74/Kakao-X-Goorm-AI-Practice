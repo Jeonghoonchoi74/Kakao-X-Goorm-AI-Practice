{
 "cells": [
  {
   "cell_type": "markdown",
   "metadata": {},
   "source": [
    "문제 1: probability\n",
    "주사위를 한 번 던져 3보다 큰 수가 나올 확률은?\n",
    "\n",
    "\n",
    "문제 2: joint probability\n",
    "사과 7개, 오렌지 3개가 있다.\n",
    "첫 번째 오렌지를 꺼낸 후 두 번째도 오렌지일 확률은?\n",
    "\n",
    "\n",
    "문제 3: basic statistics\n",
    "점수의 리스트  [70, 80, 90, 100, 85]의 평균, 중앙값, 표준편차?"
   ]
  },
  {
   "cell_type": "code",
   "execution_count": 2,
   "metadata": {},
   "outputs": [
    {
     "name": "stdout",
     "output_type": "stream",
     "text": [
      "확률은 0.50\n"
     ]
    }
   ],
   "source": [
    "import numpy as np\n",
    "\n",
    "dice = np.arange(1, 7)  # 주사위 눈\n",
    "prob = np.sum(dice > 3) / len(dice) \n",
    "print(f\"확률은 {prob:.2f}\")  "
   ]
  },
  {
   "cell_type": "code",
   "execution_count": 7,
   "metadata": {},
   "outputs": [
    {
     "name": "stdout",
     "output_type": "stream",
     "text": [
      "확률은 0.06666666666666667\n"
     ]
    }
   ],
   "source": [
    "# joint probability\n",
    "\n",
    "apple = np.arange(1, 8)  # 사과\n",
    "orange = np.arange(1, 4)  # 오렌지\n",
    "\n",
    "# 첫 번째 과일을 사과로 선택할 확률\n",
    "first_orange = len(orange) / (len(apple) + len(orange))\n",
    "\n",
    "# 두 번째 과일을 오렌지로 선택할 확률\n",
    "second_orange = (len(orange)-1) / (len(apple) + (len(orange)-1)) \n",
    "\n",
    "result = first_orange * second_orange\n",
    "print(f\"확률은 {result}\")"
   ]
  },
  {
   "cell_type": "code",
   "execution_count": null,
   "metadata": {},
   "outputs": [],
   "source": []
  },
  {
   "cell_type": "code",
   "execution_count": null,
   "metadata": {},
   "outputs": [
    {
     "name": "stdout",
     "output_type": "stream",
     "text": [
      "평균: 85.0\n",
      "중앙값: 85.0\n",
      "표준편차: 10.0\n"
     ]
    }
   ],
   "source": [
    "scores = np.array([70, 80, 90, 100, 85])\n",
    "\n",
    "print(\"평균:\", np.mean(scores))\n",
    "print(\"중앙값:\", np.median(scores))\n",
    "print(\"표준편차:\", np.std(scores))"
   ]
  }
 ],
 "metadata": {
  "kernelspec": {
   "display_name": "base",
   "language": "python",
   "name": "python3"
  },
  "language_info": {
   "codemirror_mode": {
    "name": "ipython",
    "version": 3
   },
   "file_extension": ".py",
   "mimetype": "text/x-python",
   "name": "python",
   "nbconvert_exporter": "python",
   "pygments_lexer": "ipython3",
   "version": "3.12.7"
  }
 },
 "nbformat": 4,
 "nbformat_minor": 2
}
