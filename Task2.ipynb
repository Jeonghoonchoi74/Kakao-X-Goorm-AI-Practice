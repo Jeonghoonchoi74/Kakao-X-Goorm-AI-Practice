{
 "cells": [
  {
   "cell_type": "markdown",
   "metadata": {},
   "source": [
    "주피터 노트북에서 다양한 문자열 포매팅 방식을 실습합니다. format() 메서드, f-string, % 연산자 등을 사용하여 문자열에 변수 값을 삽입하고 문자열을 조립하는 방법을 연습합니다."
   ]
  },
  {
   "cell_type": "code",
   "execution_count": 14,
   "metadata": {},
   "outputs": [
    {
     "name": "stdout",
     "output_type": "stream",
     "text": [
      "My name is Hoon and I'm 27 years old.\n",
      "I'm 27 years old and my name is Hoon.\n",
      "My name is Hoon and I'm 27 years old.\n"
     ]
    }
   ],
   "source": [
    "name = \"Hoon\"\n",
    "age = 27\n",
    "\n",
    "# 기본 사용법\n",
    "print(\"My name is {} and I'm {} years old.\".format(name, age))\n",
    "\n",
    "# 인덱스 사용\n",
    "print(\"I'm {1} years old and my name is {0}.\".format(name, age))\n",
    "\n",
    "# 키워드 인자 사용\n",
    "print(\"My name is {name} and I'm {age} years old.\".format(name=name, age=age))\n"
   ]
  },
  {
   "cell_type": "code",
   "execution_count": 15,
   "metadata": {},
   "outputs": [
    {
     "name": "stdout",
     "output_type": "stream",
     "text": [
      "My name is Hoon and I'm 27 years old.\n",
      "In 5 years, I'll be 32 years old.\n",
      "My name is Charlie and I'm 35 years old.\n"
     ]
    }
   ],
   "source": [
    "name = \"Hoon\"\n",
    "age = 27\n",
    "\n",
    "# 기본 사용법\n",
    "print(f\"My name is {name} and I'm {age} years old.\")\n",
    "\n",
    "# 표현식 사용\n",
    "print(f\"In 5 years, I'll be {age + 5} years old.\")\n",
    "\n",
    "# 딕셔너리 사용\n",
    "person = {\"name\": \"Charlie\", \"age\": 35}\n",
    "print(f\"My name is {person['name']} and I'm {person['age']} years old.\")"
   ]
  },
  {
   "cell_type": "code",
   "execution_count": 16,
   "metadata": {},
   "outputs": [
    {
     "name": "stdout",
     "output_type": "stream",
     "text": [
      "My name is Hoon and I'm 27 years old.\n",
      "My name is Eve and I'm 45 years old.\n"
     ]
    }
   ],
   "source": [
    "name = \"Hoon\"\n",
    "age = 27\n",
    "\n",
    "# 기본 사용법\n",
    "print(\"My name is %s and I'm %d years old.\" % (name, age))\n",
    "\n",
    "# 딕셔너리 사용\n",
    "person = {\"name\": \"Eve\", \"age\": 45}\n",
    "print(\"My name is %(name)s and I'm %(age)d years old.\" % person)"
   ]
  },
  {
   "cell_type": "markdown",
   "metadata": {},
   "source": [
    "주피터 노트북에서 문자열 데이터 타입을 다루는 다양한 방법을 실습합니다. 문자열 인덱싱, 슬라이싱, 문자열 메서드(upper(), lower(), strip() 등) 사용, 문자열 포매팅 등을 연습합니다."
   ]
  },
  {
   "cell_type": "code",
   "execution_count": 17,
   "metadata": {},
   "outputs": [
    {
     "name": "stdout",
     "output_type": "stream",
     "text": [
      "t\n",
      "this\n",
      " THIS IS TEST STRING \n",
      " this is test string \n",
      "this is test string\n",
      "My name is Hoon and I'm 27 years old.\n"
     ]
    }
   ],
   "source": [
    "test = \" this is test string \"\n",
    "# 문자열 인덱싱\n",
    "print(test[1])  # t\n",
    "# 문자열 슬라이싱\n",
    "print(test[1:5])  # this\n",
    "# 문자열 메서드\n",
    "print(test.upper())  # THIS IS TEST STRING\n",
    "print(test.lower())  # this is test string\n",
    "print(test.strip(' '))  # this is test string\n",
    "# 문자열 포맷팅\n",
    "name = \"Hoon\"\n",
    "age = 27\n",
    "print(\"My name is %s and I'm %d years old.\" % (name, age))\n"
   ]
  },
  {
   "cell_type": "markdown",
   "metadata": {},
   "source": [
    "주피터 노트북에서 리스트 컴프리헨션(List Comprehension)을 활용하는 방법을 실습합니다. 리스트 컴프리헨션은 간단한 구문으로 리스트를 생성할 수 있는 강력한 기능입니다. 기존 리스트의 요소를 변형하거나 필터링하여 새로운 리스트를 생성하는 방법을 학습합니다."
   ]
  },
  {
   "cell_type": "code",
   "execution_count": 18,
   "metadata": {},
   "outputs": [
    {
     "name": "stdout",
     "output_type": "stream",
     "text": [
      "[0, 1, 2, 3, 4, 5, 6, 7, 8, 9]\n",
      "[0, 2, 4, 6, 8]\n"
     ]
    }
   ],
   "source": [
    "numbers = [x for x in range(10)]\n",
    "print(numbers)  # [0, 1, 2, 3, 4, 5, 6, 7, 8, 9]\n",
    "\n",
    "numbers = [x for x in range(10) if x % 2 == 0]  # 짝수만\n",
    "print(numbers)  # [0, 2, 4, 6, 8]"
   ]
  },
  {
   "cell_type": "markdown",
   "metadata": {},
   "source": [
    "주피터 노트북에서 파이썬의 기본 데이터 구조인 리스트와 딕셔너리를 사용하는 방법을 실습합니다. 리스트에 여러 데이터를 저장하고 인덱싱, 슬라이싱, 추가/삭제 등의 작업을 수행합니다."
   ]
  },
  {
   "cell_type": "code",
   "execution_count": 19,
   "metadata": {},
   "outputs": [
    {
     "name": "stdout",
     "output_type": "stream",
     "text": [
      "[0, 1, 2, 3, 4, 5, 6, 7, 8, 9]\n",
      "[100, 1, 2, 3, 4, 5, 6, 7, 8, 9]\n",
      "[1, 2]\n",
      "[100, 1, 2]\n",
      "[100, 2, 3, 4, 5, 6, 7, 8, 9]\n",
      "[100, 2, 3, 4, 5, 6, 7, 8, 9, 10]\n"
     ]
    }
   ],
   "source": [
    "numbers = [x for x in range(10)]\n",
    "print(numbers)  # [0, 1, 2, 3, 4, 5, 6, 7, 8, 9]\n",
    "\n",
    "numbers[0] = 100\n",
    "print(numbers)  # [100, 1, 2, 3, 4, 5, 6, 7, 8, 9]\n",
    "\n",
    "# 슬라이스\n",
    "print(numbers[1:3])  # [1, 2]\n",
    "print(numbers[:3])  # [100, 1, 2]\n",
    "\n",
    "# 삭제\n",
    "del numbers[1]\n",
    "print(numbers)  # [100, 2, 3, 4, 5, 6, 7, 8, 9]\n",
    "\n",
    "# 추가\n",
    "numbers.append(10)\n",
    "print(numbers)  # [100, 2, 3, 4, 5, 6, 7, 8, 9, 10]"
   ]
  }
 ],
 "metadata": {
  "kernelspec": {
   "display_name": "base",
   "language": "python",
   "name": "python3"
  },
  "language_info": {
   "codemirror_mode": {
    "name": "ipython",
    "version": 3
   },
   "file_extension": ".py",
   "mimetype": "text/x-python",
   "name": "python",
   "nbconvert_exporter": "python",
   "pygments_lexer": "ipython3",
   "version": "3.12.7"
  }
 },
 "nbformat": 4,
 "nbformat_minor": 2
}
